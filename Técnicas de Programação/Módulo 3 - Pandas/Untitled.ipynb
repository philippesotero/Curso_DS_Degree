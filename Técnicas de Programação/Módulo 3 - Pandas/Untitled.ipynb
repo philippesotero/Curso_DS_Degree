{
 "cells": [
  {
   "cell_type": "code",
   "execution_count": 1,
   "id": "974d85c2-59ec-4ae0-aa80-df3c7ba9e556",
   "metadata": {},
   "outputs": [],
   "source": [
    "import numpy as np"
   ]
  },
  {
   "cell_type": "code",
   "execution_count": 2,
   "id": "9b9a2de3-564f-4568-8e9d-826d71d21c35",
   "metadata": {},
   "outputs": [
    {
     "data": {
      "text/plain": [
       "array([ 5,  7,  9, 11, 13, 15, 17, 19])"
      ]
     },
     "execution_count": 2,
     "metadata": {},
     "output_type": "execute_result"
    }
   ],
   "source": [
    "np.arange(5, 20, 2)"
   ]
  },
  {
   "cell_type": "code",
   "execution_count": 42,
   "id": "e76ed5c7-4ea8-4bcb-91e3-42cf37941d2d",
   "metadata": {},
   "outputs": [
    {
     "data": {
      "text/plain": [
       "array([[0.13931457, 0.08731955, 0.78800206],\n",
       "       [0.32615094, 0.54106782, 0.24023518],\n",
       "       [0.54542293, 0.4005545 , 0.71519189],\n",
       "       [0.83667994, 0.58848114, 0.29615456]])"
      ]
     },
     "execution_count": 42,
     "metadata": {},
     "output_type": "execute_result"
    }
   ],
   "source": [
    "np.random.rand(4, 3)"
   ]
  },
  {
   "cell_type": "code",
   "execution_count": 146,
   "id": "b6604f9e-785a-4b4d-8894-05dfc51ae5c6",
   "metadata": {},
   "outputs": [
    {
     "data": {
      "text/plain": [
       "array([[ 40, 307, 471,  19, 446,  63, 118, 252,  10,  82, 195, 381, 121],\n",
       "       [266, 219, 435,  11, 126, 358, 326, 422, 363, 391, 405, 108, 138],\n",
       "       [ 53, 321, 405, 425,  80, 353, 455,  33, 448, 185, 359, 394, 494],\n",
       "       [ 38,  40,  82,   1, 484, 164, 100, 207, 384, 409, 119, 372, 324],\n",
       "       [497,  44, 228,  62,   4, 463, 244, 194, 132,  30, 155, 497, 413],\n",
       "       [157, 483, 429, 289, 343,  50, 375,  80, 237, 122, 361, 398, 295],\n",
       "       [446, 329, 433, 288,  80, 450,  63, 380, 123, 378, 238,  13, 158],\n",
       "       [371,  42,  84, 488, 375,   3, 384, 395, 113, 391,  27, 294, 323],\n",
       "       [ 87, 263, 176,  78,  99,  42, 428, 184, 126, 221, 416, 272, 108],\n",
       "       [ 99, 165, 143,  38, 143, 414, 151, 170, 163, 111, 171, 155,   6],\n",
       "       [259,  37, 233, 147, 437, 342, 488, 304, 272,  78, 152,   3, 437],\n",
       "       [285,  83, 110, 481, 390, 345, 462, 282, 237, 106, 171, 103, 283],\n",
       "       [369, 493, 318, 487,  80, 467,  65, 196,  26, 332,  60, 386, 253],\n",
       "       [262, 269, 214, 314, 363,  11, 242, 403, 196, 357, 430, 439,  51],\n",
       "       [119, 160, 181, 300, 259,  83,  88, 394, 426, 152, 228, 220, 442],\n",
       "       [351, 377, 286, 127, 198, 357,  21, 488, 215, 124, 352, 457, 286],\n",
       "       [155, 186, 181, 141, 106, 411, 386, 447, 493, 142, 194, 477, 270],\n",
       "       [207, 490, 163, 161, 274, 152, 193, 230,  81, 276, 328, 452, 451]])"
      ]
     },
     "execution_count": 146,
     "metadata": {},
     "output_type": "execute_result"
    }
   ],
   "source": [
    "#np.random.seed(44)\n",
    "np.random.randint(0, 500,(18, 13))"
   ]
  },
  {
   "cell_type": "code",
   "execution_count": null,
   "id": "8e1d2bd6-81e9-4fb4-a772-2b296391719e",
   "metadata": {},
   "outputs": [],
   "source": []
  }
 ],
 "metadata": {
  "kernelspec": {
   "display_name": "Python 3",
   "language": "python",
   "name": "python3"
  },
  "language_info": {
   "codemirror_mode": {
    "name": "ipython",
    "version": 3
   },
   "file_extension": ".py",
   "mimetype": "text/x-python",
   "name": "python",
   "nbconvert_exporter": "python",
   "pygments_lexer": "ipython3",
   "version": "3.8.8"
  }
 },
 "nbformat": 4,
 "nbformat_minor": 5
}
