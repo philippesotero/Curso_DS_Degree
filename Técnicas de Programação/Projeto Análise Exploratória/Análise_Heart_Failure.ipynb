{
 "cells": [
  {
   "cell_type": "markdown",
   "id": "0c368674-7354-4353-8ead-297506ea8da1",
   "metadata": {},
   "source": [
    "## Análise Doenças Cardio Vasculares"
   ]
  },
  {
   "cell_type": "markdown",
   "id": "c11880bf-ce89-4b67-9fc4-b8af064c8402",
   "metadata": {},
   "source": [
    "As doenças cardiovasculares (DCVs) são a causa número 1 de morte no mundo , levando cerca de 17,9 milhões de vidas a cada ano , o que representa 31% de todas as mortes em todo o mundo .\n",
    "A insuficiência cardíaca é um evento comum causado por DCV e esse conjunto de dados contém 12 recursos que podem ser usados ​​para prever a mortalidade por insuficiência cardíaca.\n",
    "\n",
    "A maioria das doenças cardiovasculares pode ser prevenida abordando fatores de risco comportamentais, como uso de tabaco, dieta não saudável e obesidade, inatividade física e uso nocivo de álcool usando estratégias para toda a população.\n",
    "\n",
    "Pessoas com doença cardiovascular ou com alto risco cardiovascular (devido à presença de um ou mais fatores de risco, como hipertensão, diabetes, hiperlipidemia ou doença já estabelecida) precisam de detecção e gerenciamento precoces, onde um modelo de aprendizado de máquina pode ser de grande ajuda."
   ]
  },
  {
   "cell_type": "markdown",
   "id": "8fb088f3-9ee9-47ba-ade2-0bfa48babe83",
   "metadata": {},
   "source": [
    "### Importando Biblioteca"
   ]
  },
  {
   "cell_type": "code",
   "execution_count": 110,
   "id": "abeded9b-3eab-4066-a549-73ea74cb6aa5",
   "metadata": {},
   "outputs": [],
   "source": [
    "import pandas as pd\n",
    "import seaborn as sns\n",
    "import matplotlib.pyplot as plt\n",
    "pd.options.display.float_format = '{:.2f}'.format"
   ]
  },
  {
   "cell_type": "markdown",
   "id": "f9f024c8-0f57-4fe5-acbc-c2a07bbe26b6",
   "metadata": {},
   "source": [
    "### Importação do Dataset"
   ]
  },
  {
   "cell_type": "code",
   "execution_count": 2,
   "id": "7b18685e-780c-4d98-b4c1-507b87bb44e6",
   "metadata": {},
   "outputs": [],
   "source": [
    "df = pd.read_csv('heart_failure_clinical_records_dataset.csv')"
   ]
  },
  {
   "cell_type": "markdown",
   "id": "dadfeaf6-b1ad-47a5-b0f6-79f171097f0c",
   "metadata": {},
   "source": [
    "Apresentação do Dataset"
   ]
  },
  {
   "cell_type": "code",
   "execution_count": 3,
   "id": "4d8de5c9-b4b3-4be3-9f93-554fc1c36b1e",
   "metadata": {},
   "outputs": [
    {
     "data": {
      "text/html": [
       "<div>\n",
       "<style scoped>\n",
       "    .dataframe tbody tr th:only-of-type {\n",
       "        vertical-align: middle;\n",
       "    }\n",
       "\n",
       "    .dataframe tbody tr th {\n",
       "        vertical-align: top;\n",
       "    }\n",
       "\n",
       "    .dataframe thead th {\n",
       "        text-align: right;\n",
       "    }\n",
       "</style>\n",
       "<table border=\"1\" class=\"dataframe\">\n",
       "  <thead>\n",
       "    <tr style=\"text-align: right;\">\n",
       "      <th></th>\n",
       "      <th>age</th>\n",
       "      <th>anaemia</th>\n",
       "      <th>creatinine_phosphokinase</th>\n",
       "      <th>diabetes</th>\n",
       "      <th>ejection_fraction</th>\n",
       "      <th>high_blood_pressure</th>\n",
       "      <th>platelets</th>\n",
       "      <th>serum_creatinine</th>\n",
       "      <th>serum_sodium</th>\n",
       "      <th>sex</th>\n",
       "      <th>smoking</th>\n",
       "      <th>time</th>\n",
       "      <th>DEATH_EVENT</th>\n",
       "    </tr>\n",
       "  </thead>\n",
       "  <tbody>\n",
       "    <tr>\n",
       "      <th>0</th>\n",
       "      <td>75.00</td>\n",
       "      <td>0</td>\n",
       "      <td>582</td>\n",
       "      <td>0</td>\n",
       "      <td>20</td>\n",
       "      <td>1</td>\n",
       "      <td>265000.00</td>\n",
       "      <td>1.90</td>\n",
       "      <td>130</td>\n",
       "      <td>1</td>\n",
       "      <td>0</td>\n",
       "      <td>4</td>\n",
       "      <td>1</td>\n",
       "    </tr>\n",
       "    <tr>\n",
       "      <th>1</th>\n",
       "      <td>55.00</td>\n",
       "      <td>0</td>\n",
       "      <td>7861</td>\n",
       "      <td>0</td>\n",
       "      <td>38</td>\n",
       "      <td>0</td>\n",
       "      <td>263358.03</td>\n",
       "      <td>1.10</td>\n",
       "      <td>136</td>\n",
       "      <td>1</td>\n",
       "      <td>0</td>\n",
       "      <td>6</td>\n",
       "      <td>1</td>\n",
       "    </tr>\n",
       "    <tr>\n",
       "      <th>2</th>\n",
       "      <td>65.00</td>\n",
       "      <td>0</td>\n",
       "      <td>146</td>\n",
       "      <td>0</td>\n",
       "      <td>20</td>\n",
       "      <td>0</td>\n",
       "      <td>162000.00</td>\n",
       "      <td>1.30</td>\n",
       "      <td>129</td>\n",
       "      <td>1</td>\n",
       "      <td>1</td>\n",
       "      <td>7</td>\n",
       "      <td>1</td>\n",
       "    </tr>\n",
       "    <tr>\n",
       "      <th>3</th>\n",
       "      <td>50.00</td>\n",
       "      <td>1</td>\n",
       "      <td>111</td>\n",
       "      <td>0</td>\n",
       "      <td>20</td>\n",
       "      <td>0</td>\n",
       "      <td>210000.00</td>\n",
       "      <td>1.90</td>\n",
       "      <td>137</td>\n",
       "      <td>1</td>\n",
       "      <td>0</td>\n",
       "      <td>7</td>\n",
       "      <td>1</td>\n",
       "    </tr>\n",
       "    <tr>\n",
       "      <th>4</th>\n",
       "      <td>65.00</td>\n",
       "      <td>1</td>\n",
       "      <td>160</td>\n",
       "      <td>1</td>\n",
       "      <td>20</td>\n",
       "      <td>0</td>\n",
       "      <td>327000.00</td>\n",
       "      <td>2.70</td>\n",
       "      <td>116</td>\n",
       "      <td>0</td>\n",
       "      <td>0</td>\n",
       "      <td>8</td>\n",
       "      <td>1</td>\n",
       "    </tr>\n",
       "  </tbody>\n",
       "</table>\n",
       "</div>"
      ],
      "text/plain": [
       "    age  anaemia  creatinine_phosphokinase  diabetes  ejection_fraction  \\\n",
       "0 75.00        0                       582         0                 20   \n",
       "1 55.00        0                      7861         0                 38   \n",
       "2 65.00        0                       146         0                 20   \n",
       "3 50.00        1                       111         0                 20   \n",
       "4 65.00        1                       160         1                 20   \n",
       "\n",
       "   high_blood_pressure  platelets  serum_creatinine  serum_sodium  sex  \\\n",
       "0                    1  265000.00              1.90           130    1   \n",
       "1                    0  263358.03              1.10           136    1   \n",
       "2                    0  162000.00              1.30           129    1   \n",
       "3                    0  210000.00              1.90           137    1   \n",
       "4                    0  327000.00              2.70           116    0   \n",
       "\n",
       "   smoking  time  DEATH_EVENT  \n",
       "0        0     4            1  \n",
       "1        0     6            1  \n",
       "2        1     7            1  \n",
       "3        0     7            1  \n",
       "4        0     8            1  "
      ]
     },
     "execution_count": 3,
     "metadata": {},
     "output_type": "execute_result"
    }
   ],
   "source": [
    "df.head()"
   ]
  },
  {
   "cell_type": "code",
   "execution_count": 4,
   "id": "8b02c1b6-5c83-4072-bf56-6a67bc509e53",
   "metadata": {},
   "outputs": [
    {
     "data": {
      "text/plain": [
       "Index(['age', 'anaemia', 'creatinine_phosphokinase', 'diabetes',\n",
       "       'ejection_fraction', 'high_blood_pressure', 'platelets',\n",
       "       'serum_creatinine', 'serum_sodium', 'sex', 'smoking', 'time',\n",
       "       'DEATH_EVENT'],\n",
       "      dtype='object')"
      ]
     },
     "execution_count": 4,
     "metadata": {},
     "output_type": "execute_result"
    }
   ],
   "source": [
    "# Colunas do Dataset\n",
    "df.columns"
   ]
  },
  {
   "cell_type": "code",
   "execution_count": 187,
   "id": "d1474ed6-32c1-4f1f-abb0-3f834680da65",
   "metadata": {},
   "outputs": [
    {
     "data": {
      "image/png": "[encoded data removed]",
      "text/plain": [
       "<Figure size 720x1080 with 14 Axes>"
      ]
     },
     "metadata": {
      "needs_background": "light"
     },
     "output_type": "display_data"
    }
   ],
   "source": [
    "#Histograma do Dataset\n",
    "df.hist(layout = (7, 2), xlabelsize = 10, ylabelsize = 10, figsize = (10,15))\n",
    "plt.show()"
   ]
  },
  {
   "cell_type": "code",
   "execution_count": 195,
   "id": "ae0893f0-7b4f-4c71-8447-13c0642f7a5c",
   "metadata": {},
   "outputs": [
    {
     "data": {
      "text/plain": [
       "<AxesSubplot:>"
      ]
     },
     "execution_count": 195,
     "metadata": {},
     "output_type": "execute_result"
    },
    {
     "data": {
      "image/png": "[encoded data removed]",
      "text/plain": [
       "<Figure size 1080x576 with 2 Axes>"
      ]
     },
     "metadata": {
      "needs_background": "light"
     },
     "output_type": "display_data"
    }
   ],
   "source": [
    "# Correlação dos Dados\n",
    "plt.figure(figsize = (15,8))\n",
    "sns.heatmap(df.corr(), annot = True, fmt=\".2f\", linewidths=.6)"
   ]
  },
  {
   "cell_type": "code",
   "execution_count": 58,
   "id": "1db98fd4-6ac4-4f8f-a25e-6d3b7a2d6c08",
   "metadata": {},
   "outputs": [
    {
     "data": {
      "text/plain": [
       "age                            60.83\n",
       "anaemia                         0.43\n",
       "creatinine_phosphokinase      581.84\n",
       "diabetes                        0.42\n",
       "ejection_fraction              38.08\n",
       "high_blood_pressure             0.35\n",
       "platelets                  263358.03\n",
       "serum_creatinine                1.39\n",
       "serum_sodium                  136.63\n",
       "sex                             0.65\n",
       "smoking                         0.32\n",
       "time                          130.26\n",
       "DEATH_EVENT                     0.32\n",
       "dtype: float64"
      ]
     },
     "execution_count": 58,
     "metadata": {},
     "output_type": "execute_result"
    }
   ],
   "source": [
    "df.mean()"
   ]
  },
  {
   "cell_type": "code",
   "execution_count": 62,
   "id": "e14dc1db-8cc1-4332-b963-6cd6adf81489",
   "metadata": {},
   "outputs": [
    {
     "data": {
      "text/plain": [
       "age                           18189.33\n",
       "anaemia                         129.00\n",
       "creatinine_phosphokinase     173970.00\n",
       "diabetes                        125.00\n",
       "ejection_fraction             11387.00\n",
       "high_blood_pressure             105.00\n",
       "platelets                  78744050.75\n",
       "serum_creatinine                416.77\n",
       "serum_sodium                  40851.00\n",
       "sex                             194.00\n",
       "smoking                          96.00\n",
       "time                          38948.00\n",
       "DEATH_EVENT                      96.00\n",
       "dtype: float64"
      ]
     },
     "execution_count": 62,
     "metadata": {},
     "output_type": "execute_result"
    }
   ],
   "source": [
    "df.sum()"
   ]
  },
  {
   "cell_type": "code",
   "execution_count": 64,
   "id": "e03c3fe9-450f-4a56-84ba-18b1da5d033a",
   "metadata": {},
   "outputs": [
    {
     "data": {
      "text/html": [
       "<div>\n",
       "<style scoped>\n",
       "    .dataframe tbody tr th:only-of-type {\n",
       "        vertical-align: middle;\n",
       "    }\n",
       "\n",
       "    .dataframe tbody tr th {\n",
       "        vertical-align: top;\n",
       "    }\n",
       "\n",
       "    .dataframe thead th {\n",
       "        text-align: right;\n",
       "    }\n",
       "</style>\n",
       "<table border=\"1\" class=\"dataframe\">\n",
       "  <thead>\n",
       "    <tr style=\"text-align: right;\">\n",
       "      <th></th>\n",
       "      <th>age</th>\n",
       "      <th>anaemia</th>\n",
       "      <th>creatinine_phosphokinase</th>\n",
       "      <th>diabetes</th>\n",
       "      <th>ejection_fraction</th>\n",
       "      <th>high_blood_pressure</th>\n",
       "      <th>platelets</th>\n",
       "      <th>serum_creatinine</th>\n",
       "      <th>serum_sodium</th>\n",
       "      <th>sex</th>\n",
       "      <th>smoking</th>\n",
       "      <th>time</th>\n",
       "      <th>DEATH_EVENT</th>\n",
       "    </tr>\n",
       "  </thead>\n",
       "  <tbody>\n",
       "    <tr>\n",
       "      <th>count</th>\n",
       "      <td>299.00</td>\n",
       "      <td>299.00</td>\n",
       "      <td>299.00</td>\n",
       "      <td>299.00</td>\n",
       "      <td>299.00</td>\n",
       "      <td>299.00</td>\n",
       "      <td>299.00</td>\n",
       "      <td>299.00</td>\n",
       "      <td>299.00</td>\n",
       "      <td>299.00</td>\n",
       "      <td>299.00</td>\n",
       "      <td>299.00</td>\n",
       "      <td>299.00</td>\n",
       "    </tr>\n",
       "    <tr>\n",
       "      <th>mean</th>\n",
       "      <td>60.83</td>\n",
       "      <td>0.43</td>\n",
       "      <td>581.84</td>\n",
       "      <td>0.42</td>\n",
       "      <td>38.08</td>\n",
       "      <td>0.35</td>\n",
       "      <td>263358.03</td>\n",
       "      <td>1.39</td>\n",
       "      <td>136.63</td>\n",
       "      <td>0.65</td>\n",
       "      <td>0.32</td>\n",
       "      <td>130.26</td>\n",
       "      <td>0.32</td>\n",
       "    </tr>\n",
       "    <tr>\n",
       "      <th>std</th>\n",
       "      <td>11.89</td>\n",
       "      <td>0.50</td>\n",
       "      <td>970.29</td>\n",
       "      <td>0.49</td>\n",
       "      <td>11.83</td>\n",
       "      <td>0.48</td>\n",
       "      <td>97804.24</td>\n",
       "      <td>1.03</td>\n",
       "      <td>4.41</td>\n",
       "      <td>0.48</td>\n",
       "      <td>0.47</td>\n",
       "      <td>77.61</td>\n",
       "      <td>0.47</td>\n",
       "    </tr>\n",
       "    <tr>\n",
       "      <th>min</th>\n",
       "      <td>40.00</td>\n",
       "      <td>0.00</td>\n",
       "      <td>23.00</td>\n",
       "      <td>0.00</td>\n",
       "      <td>14.00</td>\n",
       "      <td>0.00</td>\n",
       "      <td>25100.00</td>\n",
       "      <td>0.50</td>\n",
       "      <td>113.00</td>\n",
       "      <td>0.00</td>\n",
       "      <td>0.00</td>\n",
       "      <td>4.00</td>\n",
       "      <td>0.00</td>\n",
       "    </tr>\n",
       "    <tr>\n",
       "      <th>25%</th>\n",
       "      <td>51.00</td>\n",
       "      <td>0.00</td>\n",
       "      <td>116.50</td>\n",
       "      <td>0.00</td>\n",
       "      <td>30.00</td>\n",
       "      <td>0.00</td>\n",
       "      <td>212500.00</td>\n",
       "      <td>0.90</td>\n",
       "      <td>134.00</td>\n",
       "      <td>0.00</td>\n",
       "      <td>0.00</td>\n",
       "      <td>73.00</td>\n",
       "      <td>0.00</td>\n",
       "    </tr>\n",
       "    <tr>\n",
       "      <th>50%</th>\n",
       "      <td>60.00</td>\n",
       "      <td>0.00</td>\n",
       "      <td>250.00</td>\n",
       "      <td>0.00</td>\n",
       "      <td>38.00</td>\n",
       "      <td>0.00</td>\n",
       "      <td>262000.00</td>\n",
       "      <td>1.10</td>\n",
       "      <td>137.00</td>\n",
       "      <td>1.00</td>\n",
       "      <td>0.00</td>\n",
       "      <td>115.00</td>\n",
       "      <td>0.00</td>\n",
       "    </tr>\n",
       "    <tr>\n",
       "      <th>75%</th>\n",
       "      <td>70.00</td>\n",
       "      <td>1.00</td>\n",
       "      <td>582.00</td>\n",
       "      <td>1.00</td>\n",
       "      <td>45.00</td>\n",
       "      <td>1.00</td>\n",
       "      <td>303500.00</td>\n",
       "      <td>1.40</td>\n",
       "      <td>140.00</td>\n",
       "      <td>1.00</td>\n",
       "      <td>1.00</td>\n",
       "      <td>203.00</td>\n",
       "      <td>1.00</td>\n",
       "    </tr>\n",
       "    <tr>\n",
       "      <th>max</th>\n",
       "      <td>95.00</td>\n",
       "      <td>1.00</td>\n",
       "      <td>7861.00</td>\n",
       "      <td>1.00</td>\n",
       "      <td>80.00</td>\n",
       "      <td>1.00</td>\n",
       "      <td>850000.00</td>\n",
       "      <td>9.40</td>\n",
       "      <td>148.00</td>\n",
       "      <td>1.00</td>\n",
       "      <td>1.00</td>\n",
       "      <td>285.00</td>\n",
       "      <td>1.00</td>\n",
       "    </tr>\n",
       "  </tbody>\n",
       "</table>\n",
       "</div>"
      ],
      "text/plain": [
       "         age  anaemia  creatinine_phosphokinase  diabetes  ejection_fraction  \\\n",
       "count 299.00   299.00                    299.00    299.00             299.00   \n",
       "mean   60.83     0.43                    581.84      0.42              38.08   \n",
       "std    11.89     0.50                    970.29      0.49              11.83   \n",
       "min    40.00     0.00                     23.00      0.00              14.00   \n",
       "25%    51.00     0.00                    116.50      0.00              30.00   \n",
       "50%    60.00     0.00                    250.00      0.00              38.00   \n",
       "75%    70.00     1.00                    582.00      1.00              45.00   \n",
       "max    95.00     1.00                   7861.00      1.00              80.00   \n",
       "\n",
       "       high_blood_pressure  platelets  serum_creatinine  serum_sodium    sex  \\\n",
       "count               299.00     299.00            299.00        299.00 299.00   \n",
       "mean                  0.35  263358.03              1.39        136.63   0.65   \n",
       "std                   0.48   97804.24              1.03          4.41   0.48   \n",
       "min                   0.00   25100.00              0.50        113.00   0.00   \n",
       "25%                   0.00  212500.00              0.90        134.00   0.00   \n",
       "50%                   0.00  262000.00              1.10        137.00   1.00   \n",
       "75%                   1.00  303500.00              1.40        140.00   1.00   \n",
       "max                   1.00  850000.00              9.40        148.00   1.00   \n",
       "\n",
       "       smoking   time  DEATH_EVENT  \n",
       "count   299.00 299.00       299.00  \n",
       "mean      0.32 130.26         0.32  \n",
       "std       0.47  77.61         0.47  \n",
       "min       0.00   4.00         0.00  \n",
       "25%       0.00  73.00         0.00  \n",
       "50%       0.00 115.00         0.00  \n",
       "75%       1.00 203.00         1.00  \n",
       "max       1.00 285.00         1.00  "
      ]
     },
     "execution_count": 64,
     "metadata": {},
     "output_type": "execute_result"
    }
   ],
   "source": [
    "df.describe()"
   ]
  },
  {
   "cell_type": "code",
   "execution_count": 65,
   "id": "9434ae58-b9b6-4aa6-8f7a-0913d5548f00",
   "metadata": {},
   "outputs": [
    {
     "data": {
      "text/plain": [
       "age                            60.00\n",
       "anaemia                         0.00\n",
       "creatinine_phosphokinase      250.00\n",
       "diabetes                        0.00\n",
       "ejection_fraction              38.00\n",
       "high_blood_pressure             0.00\n",
       "platelets                  262000.00\n",
       "serum_creatinine                1.10\n",
       "serum_sodium                  137.00\n",
       "sex                             1.00\n",
       "smoking                         0.00\n",
       "time                          115.00\n",
       "DEATH_EVENT                     0.00\n",
       "dtype: float64"
      ]
     },
     "execution_count": 65,
     "metadata": {},
     "output_type": "execute_result"
    }
   ],
   "source": [
    "df.median()"
   ]
  },
  {
   "cell_type": "markdown",
   "id": "8a521793-8d15-46ca-aff4-8c09ae5fdca9",
   "metadata": {},
   "source": [
    "Risco de Morte por Doença Cardiovascular quando paciente não tem anemia"
   ]
  },
  {
   "cell_type": "code",
   "execution_count": 113,
   "id": "2ba26611-ba82-4985-9c51-edae3603b631",
   "metadata": {},
   "outputs": [
    {
     "data": {
      "text/plain": [
       "0.29411764705882354"
      ]
     },
     "execution_count": 113,
     "metadata": {},
     "output_type": "execute_result"
    }
   ],
   "source": [
    "df[df['anaemia']==0].DEATH_EVENT.mean()"
   ]
  },
  {
   "cell_type": "markdown",
   "id": "5c165a4e-e335-441a-8d1a-9f836424b155",
   "metadata": {},
   "source": [
    "Risco de Morte por Doença Cardiovascular quando paciente tem anemia"
   ]
  },
  {
   "cell_type": "code",
   "execution_count": 191,
   "id": "664507d9-8ee3-4d19-9b98-9f7244d36dce",
   "metadata": {},
   "outputs": [
    {
     "data": {
      "text/plain": [
       "35.65891472868217"
      ]
     },
     "execution_count": 191,
     "metadata": {},
     "output_type": "execute_result"
    }
   ],
   "source": [
    "df[df['anaemia']==1].DEATH_EVENT.mean()"
   ]
  },
  {
   "cell_type": "markdown",
   "id": "92d2a901-faff-4493-a324-47cd86eca553",
   "metadata": {},
   "source": [
    "Gráfico Risco por anemia"
   ]
  },
  {
   "cell_type": "code",
   "execution_count": 190,
   "id": "50cf9dbd-0141-403e-bd36-5a8055575c5f",
   "metadata": {},
   "outputs": [
    {
     "data": {
      "text/plain": [
       "<AxesSubplot:xlabel='anaemia'>"
      ]
     },
     "execution_count": 190,
     "metadata": {},
     "output_type": "execute_result"
    },
    {
     "data": {
      "image/png": "[encoded data removed]",
      "text/plain": [
       "<Figure size 432x288 with 1 Axes>"
      ]
     },
     "metadata": {
      "needs_background": "light"
     },
     "output_type": "display_data"
    }
   ],
   "source": [
    "df.groupby(['anaemia'])[['DEATH_EVENT']].mean().plot(kind = 'bar')"
   ]
  },
  {
   "cell_type": "markdown",
   "id": "50cfa7ee-f2a8-4f61-b625-55d66b5d40f9",
   "metadata": {},
   "source": [
    "Risco de Morte por Doença Cardiovascular quando paciente não fuma"
   ]
  },
  {
   "cell_type": "code",
   "execution_count": 111,
   "id": "ee080644-f1f5-4dbe-9964-a150caa49958",
   "metadata": {},
   "outputs": [
    {
     "data": {
      "text/plain": [
       "0.3251231527093596"
      ]
     },
     "execution_count": 111,
     "metadata": {},
     "output_type": "execute_result"
    }
   ],
   "source": [
    "df[df['smoking']==0].DEATH_EVENT.mean()"
   ]
  },
  {
   "cell_type": "markdown",
   "id": "bef94c69-6f7b-4455-817d-aca6e8ecb16f",
   "metadata": {},
   "source": [
    "Risco de Morte por Doença Cardiovascular quando paciente fuma"
   ]
  },
  {
   "cell_type": "code",
   "execution_count": 112,
   "id": "85c01e71-d46c-4622-9938-4079afdf56d7",
   "metadata": {},
   "outputs": [
    {
     "data": {
      "text/plain": [
       "0.3125"
      ]
     },
     "execution_count": 112,
     "metadata": {},
     "output_type": "execute_result"
    }
   ],
   "source": [
    "df[df['smoking']==1].DEATH_EVENT.mean()"
   ]
  },
  {
   "cell_type": "markdown",
   "id": "3430ea45-aa4f-42a8-ad91-94dbde07dfb9",
   "metadata": {},
   "source": [
    "Gráfico Risco por Fumo"
   ]
  },
  {
   "cell_type": "code",
   "execution_count": 165,
   "id": "7abdfcb5-bdc5-4696-aa7f-e48810c1a80c",
   "metadata": {},
   "outputs": [
    {
     "data": {
      "text/plain": [
       "<AxesSubplot:xlabel='smoking'>"
      ]
     },
     "execution_count": 165,
     "metadata": {},
     "output_type": "execute_result"
    },
    {
     "data": {
      "image/png": "[encoded data removed]",
      "text/plain": [
       "<Figure size 432x288 with 1 Axes>"
      ]
     },
     "metadata": {
      "needs_background": "light"
     },
     "output_type": "display_data"
    }
   ],
   "source": [
    "df.groupby(['smoking'])[['DEATH_EVENT']].mean().plot(kind = 'bar')"
   ]
  },
  {
   "cell_type": "markdown",
   "id": "7c20d536-0688-4651-9933-eca67a5174d3",
   "metadata": {},
   "source": [
    "Risco de Morte por Doença Cardiovascular quando paciente não tem diabetes"
   ]
  },
  {
   "cell_type": "code",
   "execution_count": 115,
   "id": "0679499e-1188-4bb4-bf2e-dc995b5b5ffd",
   "metadata": {},
   "outputs": [
    {
     "data": {
      "text/plain": [
       "0.3218390804597701"
      ]
     },
     "execution_count": 115,
     "metadata": {},
     "output_type": "execute_result"
    }
   ],
   "source": [
    "df[df['diabetes']==0].DEATH_EVENT.mean()"
   ]
  },
  {
   "cell_type": "markdown",
   "id": "bd1bdeab-3458-4374-ab26-6253bb9a2381",
   "metadata": {},
   "source": [
    "Risco de Morte por Doença Cardiovascular quando paciente tem diabetes"
   ]
  },
  {
   "cell_type": "code",
   "execution_count": 116,
   "id": "f94de2fe-cf19-4d52-996a-d407122af53c",
   "metadata": {},
   "outputs": [
    {
     "data": {
      "text/plain": [
       "0.32"
      ]
     },
     "execution_count": 116,
     "metadata": {},
     "output_type": "execute_result"
    }
   ],
   "source": [
    "df[df['diabetes']==1].DEATH_EVENT.mean()"
   ]
  },
  {
   "cell_type": "markdown",
   "id": "c6978bea-53fd-48b7-90d4-86e4e87a4a17",
   "metadata": {},
   "source": [
    "Gráfico Risco por Diabetes"
   ]
  },
  {
   "cell_type": "code",
   "execution_count": 167,
   "id": "250aacc4-009e-4df6-98a4-4aa5d9cb6628",
   "metadata": {},
   "outputs": [
    {
     "data": {
      "text/plain": [
       "<AxesSubplot:xlabel='diabetes'>"
      ]
     },
     "execution_count": 167,
     "metadata": {},
     "output_type": "execute_result"
    },
    {
     "data": {
      "image/png": "[encoded data removed]",
      "text/plain": [
       "<Figure size 432x288 with 1 Axes>"
      ]
     },
     "metadata": {
      "needs_background": "light"
     },
     "output_type": "display_data"
    }
   ],
   "source": [
    "df.groupby(['diabetes'])[['DEATH_EVENT']].mean().plot(kind = 'bar')"
   ]
  },
  {
   "cell_type": "markdown",
   "id": "94e1c7f2-ad98-4925-8d19-ad845bcd4ef8",
   "metadata": {},
   "source": [
    "Risco de Morte por Doença Cardiovascular quando paciente é do sexo feminino"
   ]
  },
  {
   "cell_type": "code",
   "execution_count": 118,
   "id": "586d6242-6a3e-47f6-bded-e24f5fbade92",
   "metadata": {},
   "outputs": [
    {
     "data": {
      "text/plain": [
       "0.3238095238095238"
      ]
     },
     "execution_count": 118,
     "metadata": {},
     "output_type": "execute_result"
    }
   ],
   "source": [
    "df[df['sex']==0].DEATH_EVENT.mean()"
   ]
  },
  {
   "cell_type": "markdown",
   "id": "63d9b50f-6a4c-4981-9f2a-2a9b2c4060e1",
   "metadata": {},
   "source": [
    "Risco de Morte por Doença Cardiovascular quando paciente é do sexo masculino"
   ]
  },
  {
   "cell_type": "code",
   "execution_count": 117,
   "id": "db323ef6-e448-43d2-bfd8-f67cfc520b6c",
   "metadata": {},
   "outputs": [
    {
     "data": {
      "text/plain": [
       "0.31958762886597936"
      ]
     },
     "execution_count": 117,
     "metadata": {},
     "output_type": "execute_result"
    }
   ],
   "source": [
    "df[df['sex']==1].DEATH_EVENT.mean()"
   ]
  },
  {
   "cell_type": "markdown",
   "id": "a3508ec2-aa12-4531-a223-bc421e4fc24a",
   "metadata": {},
   "source": [
    "Gráfico Risco por Sexo"
   ]
  },
  {
   "cell_type": "code",
   "execution_count": 144,
   "id": "e6b5b89b-4646-4831-ba5c-9a34e4e820dc",
   "metadata": {},
   "outputs": [
    {
     "data": {
      "text/plain": [
       "<AxesSubplot:xlabel='sex'>"
      ]
     },
     "execution_count": 144,
     "metadata": {},
     "output_type": "execute_result"
    },
    {
     "data": {
      "image/png": "[encoded data removed]",
      "text/plain": [
       "<Figure size 432x288 with 1 Axes>"
      ]
     },
     "metadata": {
      "needs_background": "light"
     },
     "output_type": "display_data"
    }
   ],
   "source": [
    "df.groupby(['sex'])[['DEATH_EVENT']].mean().plot(kind = 'bar')"
   ]
  },
  {
   "cell_type": "markdown",
   "id": "b57bd0a9-b300-4cee-9db3-ef461e29fe3d",
   "metadata": {},
   "source": [
    "Risco de Morte por Doença Cardiovascular quando paciente não tem pressão alta"
   ]
  },
  {
   "cell_type": "code",
   "execution_count": 119,
   "id": "6b4d354a-41c1-4e03-ba08-e314d293f4bf",
   "metadata": {},
   "outputs": [
    {
     "data": {
      "text/plain": [
       "0.29381443298969073"
      ]
     },
     "execution_count": 119,
     "metadata": {},
     "output_type": "execute_result"
    }
   ],
   "source": [
    "df[df['high_blood_pressure']==0].DEATH_EVENT.mean()"
   ]
  },
  {
   "cell_type": "markdown",
   "id": "379c76e4-1eb0-4dd5-b3ad-2eabad92dac6",
   "metadata": {},
   "source": [
    "Risco de Morte por Doença Cardiovascular quando paciente tem pressão alta"
   ]
  },
  {
   "cell_type": "code",
   "execution_count": 170,
   "id": "6f9152af-7f2d-4841-add2-403237ac7414",
   "metadata": {},
   "outputs": [
    {
     "data": {
      "text/plain": [
       "0.37142857142857144"
      ]
     },
     "execution_count": 170,
     "metadata": {},
     "output_type": "execute_result"
    }
   ],
   "source": [
    "df[df['high_blood_pressure']==1].DEATH_EVENT.mean()"
   ]
  },
  {
   "cell_type": "markdown",
   "id": "fbb72aa7-580c-490c-9572-72d29c2f64a2",
   "metadata": {},
   "source": [
    "Gráfico Risco por Pressão Alta"
   ]
  },
  {
   "cell_type": "code",
   "execution_count": 173,
   "id": "e9c462f3-ac53-41ee-846e-51a20290db8f",
   "metadata": {},
   "outputs": [
    {
     "data": {
      "text/plain": [
       "<AxesSubplot:xlabel='high_blood_pressure'>"
      ]
     },
     "execution_count": 173,
     "metadata": {},
     "output_type": "execute_result"
    },
    {
     "data": {
      "image/png": "[encoded data removed]",
      "text/plain": [
       "<Figure size 432x288 with 1 Axes>"
      ]
     },
     "metadata": {
      "needs_background": "light"
     },
     "output_type": "display_data"
    }
   ],
   "source": [
    "df.groupby(['high_blood_pressure'])[['DEATH_EVENT']].mean().plot(kind = 'bar')"
   ]
  },
  {
   "cell_type": "markdown",
   "id": "d1125119-0f07-48be-8f8e-900d29a8ceb9",
   "metadata": {},
   "source": [
    "Risco de Morte por Doença Cardiovascular quando paciente tem 60 anos ou menos"
   ]
  },
  {
   "cell_type": "code",
   "execution_count": 172,
   "id": "18f1c35a-38fe-492f-9fb5-adc9de7e0e9f",
   "metadata": {},
   "outputs": [
    {
     "data": {
      "text/plain": [
       "0.2716049382716049"
      ]
     },
     "execution_count": 172,
     "metadata": {},
     "output_type": "execute_result"
    }
   ],
   "source": [
    "df[df['age'] <= 60].DEATH_EVENT.mean()"
   ]
  },
  {
   "cell_type": "markdown",
   "id": "b3abaff0-8149-4be6-a0a9-18c37a51f032",
   "metadata": {},
   "source": [
    "Risco de Morte por Doença Cardiovascular quando paciente tem mais de 60 anos"
   ]
  },
  {
   "cell_type": "code",
   "execution_count": 171,
   "id": "cc821ccf-255a-4b28-8a6e-f0b200c15fb5",
   "metadata": {},
   "outputs": [
    {
     "data": {
      "text/plain": [
       "0.3795620437956204"
      ]
     },
     "execution_count": 171,
     "metadata": {},
     "output_type": "execute_result"
    }
   ],
   "source": [
    "df[df['age'] > 60].DEATH_EVENT.mean()"
   ]
  },
  {
   "cell_type": "markdown",
   "id": "4205b72e-455f-439a-9824-1c6c33c7750e",
   "metadata": {},
   "source": [
    "Gráfico Risco por Idade"
   ]
  },
  {
   "cell_type": "code",
   "execution_count": 179,
   "id": "96ee7387-9b35-4047-89c7-28dec6d9b826",
   "metadata": {},
   "outputs": [
    {
     "data": {
      "text/plain": [
       "<AxesSubplot:xlabel='age'>"
      ]
     },
     "execution_count": 179,
     "metadata": {},
     "output_type": "execute_result"
    },
    {
     "data": {
      "image/png": "[encoded data removed]",
      "text/plain": [
       "<Figure size 432x288 with 1 Axes>"
      ]
     },
     "metadata": {
      "needs_background": "light"
     },
     "output_type": "display_data"
    }
   ],
   "source": [
    "df.groupby(df['age'] > 60)[['DEATH_EVENT']].mean().plot(kind = 'bar')"
   ]
  },
  {
   "cell_type": "markdown",
   "id": "4c52b126-2aed-43cc-ac11-c0c5c7249237",
   "metadata": {},
   "source": [
    "Risco de Morte por Doença Cardiovascular quando paciente tem acompanhamento Médico por 115 dias ou menos"
   ]
  },
  {
   "cell_type": "code",
   "execution_count": 180,
   "id": "8581e549-2706-4e87-bfb2-9791af8b3c33",
   "metadata": {},
   "outputs": [
    {
     "data": {
      "text/plain": [
       "0.5033112582781457"
      ]
     },
     "execution_count": 180,
     "metadata": {},
     "output_type": "execute_result"
    }
   ],
   "source": [
    "df[df['time'] <= 115].DEATH_EVENT.mean()"
   ]
  },
  {
   "cell_type": "markdown",
   "id": "206f423c-de97-42df-bce4-a18c26abeb61",
   "metadata": {},
   "source": [
    "Risco de Morte por Doença Cardiovascular quando paciente tem acompanhamento Médico por mais de 115 dias"
   ]
  },
  {
   "cell_type": "code",
   "execution_count": 181,
   "id": "f55776ab-1b25-4b6c-a742-59a30a7ad39a",
   "metadata": {},
   "outputs": [
    {
     "data": {
      "text/plain": [
       "0.13513513513513514"
      ]
     },
     "execution_count": 181,
     "metadata": {},
     "output_type": "execute_result"
    }
   ],
   "source": [
    "df[df['time'] > 115].DEATH_EVENT.mean()"
   ]
  },
  {
   "cell_type": "markdown",
   "id": "511991f7-cb5c-4816-bdfb-5c773950b91e",
   "metadata": {},
   "source": [
    "Risco por Acompanhamento Médico"
   ]
  },
  {
   "cell_type": "code",
   "execution_count": 182,
   "id": "83230006-93cb-40ef-8162-bb8b530c339d",
   "metadata": {},
   "outputs": [
    {
     "data": {
      "text/plain": [
       "<AxesSubplot:xlabel='time'>"
      ]
     },
     "execution_count": 182,
     "metadata": {},
     "output_type": "execute_result"
    },
    {
     "data": {
      "image/png": "[encoded data removed]",
      "text/plain": [
       "<Figure size 432x288 with 1 Axes>"
      ]
     },
     "metadata": {
      "needs_background": "light"
     },
     "output_type": "display_data"
    }
   ],
   "source": [
    "df.groupby(df['time'] > 115)[['DEATH_EVENT']].mean().plot(kind = 'bar')"
   ]
  },
  {
   "cell_type": "code",
   "execution_count": null,
   "id": "12799652-48fb-46fa-9b03-c9aea19d9d17",
   "metadata": {},
   "outputs": [],
   "source": []
  }
 ],
 "metadata": {
  "kernelspec": {
   "display_name": "Python 3",
   "language": "python",
   "name": "python3"
  },
  "language_info": {
   "codemirror_mode": {
    "name": "ipython",
    "version": 3
   },
   "file_extension": ".py",
   "mimetype": "text/x-python",
   "name": "python",
   "nbconvert_exporter": "python",
   "pygments_lexer": "ipython3",
   "version": "3.8.8"
  }
 },
 "nbformat": 4,
 "nbformat_minor": 5
}
