{
 "cells": [
  {
   "cell_type": "code",
   "execution_count": 18,
   "id": "3b2af44a-d18e-4c52-a8ba-fd00bc25f509",
   "metadata": {},
   "outputs": [
    {
     "data": {
      "text/plain": [
       "A área do Retangulo é 837.80"
      ]
     },
     "execution_count": 18,
     "metadata": {},
     "output_type": "execute_result"
    }
   ],
   "source": [
    "class Retangulo:\n",
    "    def __init__(self, lado_a, lado_b):\n",
    "        '''\n",
    "        Cria um retângulo\n",
    "        \n",
    "        Parâmetros\n",
    "        ----------\n",
    "        lado_a: float\n",
    "           Valor do lado a do retângulo\n",
    "        lado_b: float\n",
    "            Valor do lado b do retângulo\n",
    "        '''\n",
    "        self.lado_a = lado_a\n",
    "        self.lado_b = lado_b\n",
    "        self.area = 0\n",
    "        \n",
    "    \n",
    "    def calcula_area(self):\n",
    "        '''\n",
    "        Calcula a área do retângulo\n",
    "        \n",
    "        Retorno\n",
    "        ----------\n",
    "        out: float\n",
    "            Retorna a área do retângulo\n",
    "        '''\n",
    "        self.area = self.lado_a * self.lado_b\n",
    "        return self\n",
    "    \n",
    "    def __repr__(self):\n",
    "        return f'A área do Retangulo é {self.area:.2f}'\n",
    "\n",
    "retangulo1 = Retangulo(\n",
    "    lado_a = 23.6,\n",
    "    lado_b = 35.5\n",
    ")\n",
    "\n",
    "retangulo1.calcula_area()\n"
   ]
  }
 ],
 "metadata": {
  "kernelspec": {
   "display_name": "Python 3",
   "language": "python",
   "name": "python3"
  },
  "language_info": {
   "codemirror_mode": {
    "name": "ipython",
    "version": 3
   },
   "file_extension": ".py",
   "mimetype": "text/x-python",
   "name": "python",
   "nbconvert_exporter": "python",
   "pygments_lexer": "ipython3",
   "version": "3.8.8"
  }
 },
 "nbformat": 4,
 "nbformat_minor": 5
}
