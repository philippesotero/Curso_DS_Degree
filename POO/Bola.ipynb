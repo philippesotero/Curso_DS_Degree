{
 "cells": [
  {
   "cell_type": "code",
   "execution_count": 42,
   "id": "d1b18c7c-c252-4da3-bb92-4518556e1d20",
   "metadata": {},
   "outputs": [],
   "source": [
    "import math\n",
    "\n",
    "class Bola:\n",
    "    def __init__(self, cor, raio):\n",
    "        '''\n",
    "        Cria uma bola\n",
    "        \n",
    "        Parêmetros\n",
    "        ----------\n",
    "        cor:str\n",
    "            cor da bola\n",
    "        raio:float\n",
    "            raio da bola\n",
    "        '''\n",
    "        self.cor = cor\n",
    "        self.raio = raio\n",
    "    \n",
    "    def imprime_cor(self):\n",
    "        '''\n",
    "        Imprime cor da bola\n",
    "        '''\n",
    "        return self\n",
    "    \n",
    "    def calcula_area(self):\n",
    "        '''\n",
    "        Calcula área da bola\n",
    "        \n",
    "        Retorno\n",
    "        -------\n",
    "        out:float\n",
    "            Retorna área da bola\n",
    "        '''\n",
    "        area = 4*math.pi*self.raio**2\n",
    "        return area\n",
    "    \n",
    "    def calcula_volume(self):\n",
    "        '''\n",
    "        Calcula volume da bola\n",
    "        \n",
    "        Retorno\n",
    "        -------\n",
    "        out:float\n",
    "            Retorna volume da bola\n",
    "        '''\n",
    "        volume = 4*math.pi*self.raio**3/3\n",
    "        return volume\n",
    "    \n",
    "    def __repr__(self):\n",
    "        return f'A bola é {self.cor}'\n",
    "            \n"
   ]
  },
  {
   "cell_type": "code",
   "execution_count": 43,
   "id": "9bdfd8e2-50ff-41f5-a086-e5d64dcf897f",
   "metadata": {},
   "outputs": [
    {
     "data": {
      "text/plain": [
       "A bola é vermelha"
      ]
     },
     "execution_count": 43,
     "metadata": {},
     "output_type": "execute_result"
    }
   ],
   "source": [
    "bola1 = Bola(\n",
    "    cor = 'vermelha',\n",
    "    raio = 2\n",
    ")\n",
    "\n",
    "bola1.imprime_cor()"
   ]
  },
  {
   "cell_type": "code",
   "execution_count": 6,
   "id": "abde35e8-6b13-417e-b46c-46b3aca666f5",
   "metadata": {},
   "outputs": [
    {
     "name": "stdout",
     "output_type": "stream",
     "text": [
      "A área da bola é 50.27\n"
     ]
    }
   ],
   "source": [
    "print(f'A área da bola é {bola1.calcula_area():.2f}')"
   ]
  },
  {
   "cell_type": "code",
   "execution_count": 34,
   "id": "08d9c1f4-0de6-4a61-aaf7-113232d82540",
   "metadata": {},
   "outputs": [
    {
     "data": {
      "text/plain": [
       "50.26548245743669"
      ]
     },
     "execution_count": 34,
     "metadata": {},
     "output_type": "execute_result"
    }
   ],
   "source": [
    "bola1.calcula_area()"
   ]
  },
  {
   "cell_type": "code",
   "execution_count": 7,
   "id": "f7b51112-f89d-48e0-8ae8-65e37387d32f",
   "metadata": {},
   "outputs": [
    {
     "name": "stdout",
     "output_type": "stream",
     "text": [
      "O volume da bola é 33.51\n"
     ]
    }
   ],
   "source": [
    "print(f'O volume da bola é {bola1.calcula_volume():.2f}')"
   ]
  },
  {
   "cell_type": "code",
   "execution_count": 47,
   "id": "239d1da8-0edc-41ab-a309-7edd3f8ebee3",
   "metadata": {},
   "outputs": [],
   "source": [
    "import time"
   ]
  },
  {
   "cell_type": "code",
   "execution_count": 48,
   "id": "7a682cb1-3600-4dae-a036-f5862c4bf089",
   "metadata": {},
   "outputs": [
    {
     "name": "stdout",
     "output_type": "stream",
     "text": [
      "None\n"
     ]
    }
   ],
   "source": []
  }
 ],
 "metadata": {
  "kernelspec": {
   "display_name": "Python 3",
   "language": "python",
   "name": "python3"
  },
  "language_info": {
   "codemirror_mode": {
    "name": "ipython",
    "version": 3
   },
   "file_extension": ".py",
   "mimetype": "text/x-python",
   "name": "python",
   "nbconvert_exporter": "python",
   "pygments_lexer": "ipython3",
   "version": "3.8.8"
  }
 },
 "nbformat": 4,
 "nbformat_minor": 5
}
