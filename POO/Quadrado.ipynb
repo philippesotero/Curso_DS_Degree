{
 "cells": [
  {
   "cell_type": "code",
   "execution_count": 2,
   "id": "742fb386-4c25-402f-832d-cc1e835f5cb4",
   "metadata": {},
   "outputs": [
    {
     "data": {
      "text/plain": [
       "25"
      ]
     },
     "execution_count": 2,
     "metadata": {},
     "output_type": "execute_result"
    }
   ],
   "source": [
    "class Retangulo:\n",
    "    def __init__(self, lado_a, lado_b):\n",
    "        '''\n",
    "        Cria um retângulo\n",
    "        \n",
    "        Parâmetros\n",
    "        ----------\n",
    "        lado_a: float\n",
    "           Valor do lado a do retângulo\n",
    "        lado_b: float\n",
    "            Valor do lado b do retângulo\n",
    "        '''\n",
    "        self.lado_a = lado_a\n",
    "        self.lado_b = lado_b\n",
    "        \n",
    "    \n",
    "    def calcula_area(self):\n",
    "        '''\n",
    "        Calcula a área do retângulo\n",
    "        \n",
    "        Retorno\n",
    "        ----------\n",
    "        out: float\n",
    "            Retorna a área do retângulo\n",
    "        '''\n",
    "        return self.lado_a * self.lado_b\n",
    "\n",
    "class Quadrado(Retangulo):\n",
    "    \n",
    "    def __init__(self, lado):\n",
    "        '''\n",
    "        Cria um quadrado\n",
    "        \n",
    "        Parâmetros\n",
    "        ----------\n",
    "        lado: float\n",
    "           Valor do lado do quadrado\n",
    "        '''\n",
    "        super().__init__(  \n",
    "            lado_a=lado, \n",
    "            lado_b=lado\n",
    "        )\n",
    "        \n",
    "quadrado1 = Quadrado(5)\n",
    "quadrado1.calcula_area()"
   ]
  }
 ],
 "metadata": {
  "kernelspec": {
   "display_name": "Python 3",
   "language": "python",
   "name": "python3"
  },
  "language_info": {
   "codemirror_mode": {
    "name": "ipython",
    "version": 3
   },
   "file_extension": ".py",
   "mimetype": "text/x-python",
   "name": "python",
   "nbconvert_exporter": "python",
   "pygments_lexer": "ipython3",
   "version": "3.8.8"
  }
 },
 "nbformat": 4,
 "nbformat_minor": 5
}
