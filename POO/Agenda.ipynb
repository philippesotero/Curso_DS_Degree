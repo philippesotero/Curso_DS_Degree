{
 "cells": [
  {
   "cell_type": "code",
   "execution_count": 241,
   "id": "9731f61f-2a8b-4a8b-beff-0c16944278c3",
   "metadata": {},
   "outputs": [],
   "source": [
    "class Agenda:\n",
    "    \n",
    "    def __init__(self, nome, telefone, email):\n",
    "        '''\n",
    "        Cria uma Agenda de contatos\n",
    "\n",
    "        Parêmetros\n",
    "        ----------\n",
    "        nome:str\n",
    "            Nome de self para criação da agenda\n",
    "        telefone:str\n",
    "            Telefone de self para criação da agenda\n",
    "        email:str\n",
    "            Email de self para criação da agenda\n",
    "        '''\n",
    "        \n",
    "        self.nome = nome\n",
    "        self.telefone = telefone\n",
    "        self.email = email\n",
    "        self.contato = []\n",
    "        \n",
    "        \n",
    "    def incluir_contato(self, other):\n",
    "        '''\n",
    "        Adiciona um contato a lista de contatos de self\n",
    "        \n",
    "        Parâmetros\n",
    "        ----------\n",
    "        other:Agenda\n",
    "            Contato para inclusão na lista de contatos de self.\n",
    "        Retorno\n",
    "        ----------\n",
    "        out: Bool\n",
    "            True se deu certo\n",
    "        '''\n",
    "        self.contato.append(other)\n",
    "        return True\n",
    "    \n",
    "    def remover_contato(self, other):\n",
    "        '''\n",
    "        Remove um contato a lista de contatos de self\n",
    "        \n",
    "        Parâmetros\n",
    "        ----------\n",
    "        other:Agenda\n",
    "            Contato para remoção da lista de contatos de self.\n",
    "        Retorno\n",
    "        ----------\n",
    "        out: Bool\n",
    "            True se deu certo, False se não deu.\n",
    "        '''\n",
    "        if other in self.contato:\n",
    "            self.contato.remove(other)\n",
    "            return True   \n",
    "        return False\n",
    "    \n",
    "    def buscar_contato(self, other):\n",
    "        '''\n",
    "        Busca um contato a lista de contatos de self\n",
    "        \n",
    "        Parâmetros\n",
    "        ----------\n",
    "        other:Agenda\n",
    "            Contato para busca na lista de contatos de self.\n",
    "        Retorno\n",
    "        ----------\n",
    "        out: Bool\n",
    "            True se deu certo, False se não deu.\n",
    "        '''\n",
    "        if other in self.contato:\n",
    "            return other\n",
    "        return False\n",
    "    \n",
    "    def listar_contatos(self):\n",
    "        '''\n",
    "        Imprime a lista de contatos de self\n",
    "        \n",
    "        Retorno\n",
    "        ----------\n",
    "        out:list\n",
    "            Lista de contatos de self\n",
    "        '''\n",
    "        return self.contato\n",
    "    \n",
    "    def __repr__(self):\n",
    "        return f'Nome:{self.nome}\\nTelefone:{self.telefone}\\nEmail:{self.email}'\n",
    "    "
   ]
  },
  {
   "cell_type": "code",
   "execution_count": 242,
   "id": "fb3e8f8b-f703-4bfa-b976-9c079c8ffc99",
   "metadata": {},
   "outputs": [],
   "source": [
    "philippe = Agenda(\n",
    "    nome = 'Philippe',\n",
    "    telefone = '11980664375',\n",
    "    email = 'philippesotero@gmail.com'\n",
    ")\n",
    "\n",
    "dallati = Agenda(\n",
    "    nome = 'Dallati',\n",
    "    telefone = '11968127361',\n",
    "    email = 'dallati@gmail.com'\n",
    ")\n",
    "\n",
    "melina = Agenda(\n",
    "    nome = 'Melina',\n",
    "    telefone = '11980664376',\n",
    "    email = 'melina@gmail.com'\n",
    ")"
   ]
  },
  {
   "cell_type": "code",
   "execution_count": 243,
   "id": "e4e876cd-396a-4911-994b-6e33b2563316",
   "metadata": {},
   "outputs": [
    {
     "data": {
      "text/plain": [
       "True"
      ]
     },
     "execution_count": 243,
     "metadata": {},
     "output_type": "execute_result"
    }
   ],
   "source": [
    "philippe.incluir_contato(melina)"
   ]
  },
  {
   "cell_type": "code",
   "execution_count": 244,
   "id": "cb249c64-8471-4560-8a37-a59ae00bc1c8",
   "metadata": {},
   "outputs": [
    {
     "data": {
      "text/plain": [
       "True"
      ]
     },
     "execution_count": 244,
     "metadata": {},
     "output_type": "execute_result"
    }
   ],
   "source": [
    "philippe.incluir_contato(dallati)"
   ]
  },
  {
   "cell_type": "code",
   "execution_count": 245,
   "id": "cee77157-7723-4e12-bae7-cdea42bf3ce1",
   "metadata": {},
   "outputs": [
    {
     "data": {
      "text/plain": [
       "Nome:Melina\n",
       "Telefone:11980664376\n",
       "Email:melina@gmail.com"
      ]
     },
     "execution_count": 245,
     "metadata": {},
     "output_type": "execute_result"
    }
   ],
   "source": [
    "philippe.buscar_contato(melina)"
   ]
  },
  {
   "cell_type": "code",
   "execution_count": 246,
   "id": "46f906ce-090b-4814-9319-5db13bd23164",
   "metadata": {},
   "outputs": [
    {
     "data": {
      "text/plain": [
       "True"
      ]
     },
     "execution_count": 246,
     "metadata": {},
     "output_type": "execute_result"
    }
   ],
   "source": [
    "dallati.incluir_contato(philippe)"
   ]
  },
  {
   "cell_type": "code",
   "execution_count": 247,
   "id": "2e83be78-e710-4b5c-baad-8a5db092bf80",
   "metadata": {},
   "outputs": [
    {
     "data": {
      "text/plain": [
       "[Nome:Melina\n",
       " Telefone:11980664376\n",
       " Email:melina@gmail.com,\n",
       " Nome:Dallati\n",
       " Telefone:11968127361\n",
       " Email:dallati@gmail.com]"
      ]
     },
     "execution_count": 247,
     "metadata": {},
     "output_type": "execute_result"
    }
   ],
   "source": [
    "\n",
    "philippe.listar_contatos()"
   ]
  },
  {
   "cell_type": "code",
   "execution_count": 248,
   "id": "00655694-15cc-4ef4-a5ad-d67681723a96",
   "metadata": {},
   "outputs": [
    {
     "data": {
      "text/plain": [
       "True"
      ]
     },
     "execution_count": 248,
     "metadata": {},
     "output_type": "execute_result"
    }
   ],
   "source": [
    "philippe.remover_contato(melina)"
   ]
  }
 ],
 "metadata": {
  "kernelspec": {
   "display_name": "Python 3",
   "language": "python",
   "name": "python3"
  },
  "language_info": {
   "codemirror_mode": {
    "name": "ipython",
    "version": 3
   },
   "file_extension": ".py",
   "mimetype": "text/x-python",
   "name": "python",
   "nbconvert_exporter": "python",
   "pygments_lexer": "ipython3",
   "version": "3.8.8"
  }
 },
 "nbformat": 4,
 "nbformat_minor": 5
}
