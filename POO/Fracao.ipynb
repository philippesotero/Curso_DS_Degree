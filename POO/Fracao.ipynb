{
 "cells": [
  {
   "cell_type": "code",
   "execution_count": 12,
   "id": "fb85c44e-c216-4b8a-80f1-b67484c32fe2",
   "metadata": {},
   "outputs": [],
   "source": [
    "%load_ext autoreload\n",
    "%autoreload 2"
   ]
  },
  {
   "cell_type": "code",
   "execution_count": 5,
   "id": "02758a49-1508-485e-8418-aeca2b6884c7",
   "metadata": {},
   "outputs": [],
   "source": [
    "class Fracao:\n",
    "    def __init__(self, numerador, denominador):\n",
    "        if denominador == 0:\n",
    "            raise ValueError('Denominador não pode ser 0.')\n",
    "        self.numerador = numerador\n",
    "        self.denominador = denominador\n",
    "    \n",
    "    def __repr__(self):\n",
    "        return f'{self.numerador}/{self.denominador}'\n",
    "    \n",
    "    def __add__(self, other):\n",
    "        num = self.numerador * other.denominador +\\\n",
    "        self.denominador * other.numerador\n",
    "        \n",
    "        den = self.denominador*other.denominador\n",
    "        \n",
    "        return Fracao(num, den)\n",
    "    \n",
    "    def __sub__(self, other):\n",
    "        num = self.numerador * other.denominador -\\\n",
    "        self.denominador * other.numerador\n",
    "        \n",
    "        den = self.denominador*other.denominador\n",
    "        \n",
    "        return Fracao(num, den)\n",
    "    \n",
    "    def __mul__(self, other):\n",
    "    \n",
    "        num = self.numerador * other.numerador\n",
    "        den = self.denominador * other.denominador\n",
    "        \n",
    "        return Fracao(num, den)\n",
    "    \n",
    "    def __truediv__(self, other):\n",
    "        num = self.numerador * other.denominador\n",
    "        den = self.denominador * other.numerador\n",
    "        \n",
    "        return Fracao(num, den)\n",
    "    \n",
    "    def __eq__(self, other)\n",
    "        "
   ]
  },
  {
   "cell_type": "code",
   "execution_count": 6,
   "id": "680bbd29-a697-4629-84bb-948a251f906d",
   "metadata": {},
   "outputs": [],
   "source": [
    "fracao1 = Fracao(2, 3)\n",
    "fracao2 = Fracao(5, 9)"
   ]
  },
  {
   "cell_type": "code",
   "execution_count": 8,
   "id": "00a2b73e-6ee1-40e4-a071-d99c270040db",
   "metadata": {},
   "outputs": [
    {
     "data": {
      "text/plain": [
       "33/27"
      ]
     },
     "execution_count": 8,
     "metadata": {},
     "output_type": "execute_result"
    }
   ],
   "source": [
    "fracao1 + fracao2"
   ]
  },
  {
   "cell_type": "code",
   "execution_count": 9,
   "id": "e6e940b5-d5d5-4693-b715-f735b29401cb",
   "metadata": {},
   "outputs": [
    {
     "data": {
      "text/plain": [
       "3/27"
      ]
     },
     "execution_count": 9,
     "metadata": {},
     "output_type": "execute_result"
    }
   ],
   "source": [
    "fracao1 - fracao2"
   ]
  },
  {
   "cell_type": "code",
   "execution_count": 10,
   "id": "06ff9ca2-55ea-4187-b34a-edc36bef5df9",
   "metadata": {},
   "outputs": [
    {
     "data": {
      "text/plain": [
       "10/27"
      ]
     },
     "execution_count": 10,
     "metadata": {},
     "output_type": "execute_result"
    }
   ],
   "source": [
    "fracao1 * fracao2"
   ]
  },
  {
   "cell_type": "code",
   "execution_count": 11,
   "id": "950c1858-02a7-4597-bb9e-02aef87072c7",
   "metadata": {},
   "outputs": [
    {
     "data": {
      "text/plain": [
       "18/15"
      ]
     },
     "execution_count": 11,
     "metadata": {},
     "output_type": "execute_result"
    }
   ],
   "source": [
    "fracao1 / fracao2"
   ]
  }
 ],
 "metadata": {
  "kernelspec": {
   "display_name": "Python 3",
   "language": "python",
   "name": "python3"
  },
  "language_info": {
   "codemirror_mode": {
    "name": "ipython",
    "version": 3
   },
   "file_extension": ".py",
   "mimetype": "text/x-python",
   "name": "python",
   "nbconvert_exporter": "python",
   "pygments_lexer": "ipython3",
   "version": "3.8.8"
  }
 },
 "nbformat": 4,
 "nbformat_minor": 5
}
