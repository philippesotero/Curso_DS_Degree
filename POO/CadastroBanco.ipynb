{
 "cells": [
  {
   "cell_type": "code",
   "execution_count": 172,
   "id": "e4a4dffa-b8ff-4d1a-b65d-338944bbf5a8",
   "metadata": {},
   "outputs": [],
   "source": [
    "class Cliente:\n",
    "    def __init__(self, nome, idade, email):\n",
    "        self.nome = nome\n",
    "        self.idade = idade\n",
    "        self.email = email\n",
    "        \n",
    "    def imprimir_dados_cliente(self):\n",
    "        return self\n",
    "        \n",
    "    def __repr__(self):\n",
    "        return f'Nome: {self.nome}\\n\\nIdade: {self.idade}\\n\\nEmail: {self.email}\\n\\n'"
   ]
  },
  {
   "cell_type": "code",
   "execution_count": 173,
   "id": "60e28be2-4850-4790-b03f-e03076818892",
   "metadata": {},
   "outputs": [],
   "source": [
    "class Sistema:\n",
    "    def __init__(self, cadastro = []):\n",
    "        '''\n",
    "        Cria um sistema para cadastro de Cliente\n",
    "        \n",
    "        Parâmetros\n",
    "        ----------\n",
    "        cadastro:list\n",
    "            Lista de clientes cadastrados, inicia vazia\n",
    "        '''\n",
    "        self.cadastro = cadastro\n",
    "        \n",
    "    def imprimir_cadastrados(self):\n",
    "        '''\n",
    "        Imprime lista de Clientes cadastrados\n",
    "        \n",
    "        Retorno\n",
    "        ---------\n",
    "        out:list\n",
    "            Imprime lista de Clientes cadastrados\n",
    "        '''\n",
    "        return self.cadastro\n",
    "    \n",
    "    def cadastrar_novo_cliente(self, novo_cliente):\n",
    "        '''\n",
    "        Imprime lista de Clientes cadastrados\n",
    "        \n",
    "        Parâmetros\n",
    "        ---------\n",
    "        novo_cliente:Cliente\n",
    "            Cliente para cadastro\n",
    "        '''\n",
    "        self.cadastro.append(novo_cliente)\n",
    "        \n",
    "    def alterar_cadastro(self, cliente, nome = None, idade = None, email = None):\n",
    "        '''\n",
    "        Altera cadastro do cliente\n",
    "        \n",
    "        Parâmetros\n",
    "        ---------\n",
    "        cliente:Cliente\n",
    "            Cliente para alteração do cadastro\n",
    "        nome:str\n",
    "            Nome para alteração no cadastro do Cliente\n",
    "        idade:int\n",
    "            Idade para alteração no cadastro do Cliente\n",
    "        email:str\n",
    "            Email para alteração no cadastro do Cliente\n",
    "            \n",
    "        Retorno\n",
    "        ----------\n",
    "        out: Bool\n",
    "            True se deu certo, False se não deu\n",
    "        '''\n",
    "        if cliente in self.cadastro:\n",
    "            if nome != None:\n",
    "                cliente.nome = nome\n",
    "            if idade != None:\n",
    "                cliente.idade = idade\n",
    "            if email != None:\n",
    "                cliente.email = email\n",
    "            return True\n",
    "        return False\n",
    "    \n",
    "    "
   ]
  },
  {
   "cell_type": "code",
   "execution_count": 174,
   "id": "7f4307be-0eaa-4710-8202-652fa4431541",
   "metadata": {},
   "outputs": [],
   "source": [
    "philippe = Cliente(\n",
    "    nome = 'Philippe',\n",
    "    idade = 31,\n",
    "    email = 'philippesotero@gmail.com'\n",
    ")\n",
    "\n",
    "dallati = Cliente(\n",
    "    nome = 'Dallati',\n",
    "    idade = 26,\n",
    "    email = 'dallati@gmail.com'\n",
    ")"
   ]
  },
  {
   "cell_type": "code",
   "execution_count": 175,
   "id": "3458a582-1d08-4065-be31-727188d982b5",
   "metadata": {},
   "outputs": [],
   "source": [
    "cadastro = Sistema()"
   ]
  },
  {
   "cell_type": "code",
   "execution_count": 79,
   "id": "5778f8e8-6642-44a2-adaa-d1b01b1d2039",
   "metadata": {},
   "outputs": [
    {
     "data": {
      "text/plain": [
       "[]"
      ]
     },
     "execution_count": 79,
     "metadata": {},
     "output_type": "execute_result"
    }
   ],
   "source": [
    "cadastro.cadastro"
   ]
  },
  {
   "cell_type": "code",
   "execution_count": 177,
   "id": "d0dc3ba9-aac5-483d-b556-ed0499cb9101",
   "metadata": {},
   "outputs": [],
   "source": [
    "cadastro.cadastrar_novo_cliente(dallati)"
   ]
  },
  {
   "cell_type": "code",
   "execution_count": 180,
   "id": "e9c48252-65b4-4b27-b8c1-5d4112a8251a",
   "metadata": {},
   "outputs": [
    {
     "data": {
      "text/plain": [
       "[Nome: Philippe\n",
       " \n",
       " Idade: 31\n",
       " \n",
       " Email: philippesotero@gmail.com\n",
       " ,\n",
       " Nome: Philippe Sotero\n",
       " \n",
       " Idade: 36\n",
       " \n",
       " Email: philippesotero@gmail.com\n",
       " ]"
      ]
     },
     "execution_count": 180,
     "metadata": {},
     "output_type": "execute_result"
    }
   ],
   "source": [
    "cadastro.imprimir_cadastrados()"
   ]
  },
  {
   "cell_type": "code",
   "execution_count": 179,
   "id": "12f09a49-d8fd-4b0d-b863-c2ba0ff17879",
   "metadata": {},
   "outputs": [
    {
     "data": {
      "text/plain": [
       "True"
      ]
     },
     "execution_count": 179,
     "metadata": {},
     "output_type": "execute_result"
    }
   ],
   "source": [
    "cadastro.alterar_cadastro(\n",
    "    dallati ,\n",
    "    nome = 'Philippe Sotero',\n",
    "    idade = 36,\n",
    "    email = 'philippesotero@gmail.com'\n",
    "\n",
    ")"
   ]
  }
 ],
 "metadata": {
  "kernelspec": {
   "display_name": "Python 3",
   "language": "python",
   "name": "python3"
  },
  "language_info": {
   "codemirror_mode": {
    "name": "ipython",
    "version": 3
   },
   "file_extension": ".py",
   "mimetype": "text/x-python",
   "name": "python",
   "nbconvert_exporter": "python",
   "pygments_lexer": "ipython3",
   "version": "3.8.8"
  }
 },
 "nbformat": 4,
 "nbformat_minor": 5
}
