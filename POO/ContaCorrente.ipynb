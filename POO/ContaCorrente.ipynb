{
 "cells": [
  {
   "cell_type": "code",
   "execution_count": 11,
   "id": "a5011037-aff9-4ae3-a717-4b29473d3f04",
   "metadata": {},
   "outputs": [],
   "source": [
    "class Cliente:\n",
    "    def __init__(self, nome, idade, email):\n",
    "        \n",
    "        '''\n",
    "        Cria a representação de um Cliente\n",
    "\n",
    "        Parâmetros\n",
    "        ----------\n",
    "        nome:str\n",
    "            Nome do Cliente\n",
    "        telefone:str\n",
    "            Telefone do Cliente\n",
    "        email:str\n",
    "            Email do Cliente\n",
    "        '''\n",
    "        \n",
    "        self.nome = nome\n",
    "        self.idade = idade\n",
    "        self.email = email\n",
    "        \n",
    "    def imprimir_dados_cliente(self):\n",
    "        '''\n",
    "        Imprime dados do cliente\n",
    "        \n",
    "        Retorno\n",
    "        ---------\n",
    "        out:str\n",
    "        \n",
    "             Imprime os dados do cliente   \n",
    "        '''\n",
    "        return self\n",
    "        \n",
    "    def __repr__(self):\n",
    "        return f'Nome: {self.nome}\\n\\nIdade: {self.idade}\\n\\nEmail: {self.email}'"
   ]
  },
  {
   "cell_type": "code",
   "execution_count": 49,
   "id": "315b7f91-4ee0-40e3-bdf3-9c339649c7ce",
   "metadata": {},
   "outputs": [],
   "source": [
    "class ContaCorrente:\n",
    "    \n",
    "    def __init__(self, cliente, saldo = 0):\n",
    "        \n",
    "        '''\n",
    "        Cria uma representação de uma Pessoa\n",
    "        na nossa Rede Social\n",
    "\n",
    "        Parâmetros\n",
    "        ----------\n",
    "        cliente:Cliente\n",
    "            Cliente associado a ContaCorrente\n",
    "        saldo:int\n",
    "            Saldo associado a ContaCorrente do Cliente\n",
    "        '''\n",
    "        self.cliente = cliente\n",
    "        self.__saldo = saldo\n",
    "     \n",
    "    @property\n",
    "    def saldo(self):\n",
    "        return self.__saldo\n",
    "        \n",
    "    def deposito(self, valor_deposito):\n",
    "        '''\n",
    "        Deposita um valor a ContaCorrente de self\n",
    "        \n",
    "        Parâmetros\n",
    "        ----------\n",
    "        valor_deposito:float\n",
    "            Valor a ser depositado na ContaCorrente de self\n",
    "        '''\n",
    "        self.__saldo = self.__saldo + valor_deposito\n",
    "        \n",
    "    def saque(self, valor_saque):\n",
    "        '''\n",
    "        Saca um valor da ContaCorrente de self\n",
    "        \n",
    "        Parâmetros\n",
    "        ----------\n",
    "        valor_saque:float\n",
    "            Valor a ser sacado da ContaCorrente de self\n",
    "        \n",
    "        Retorno\n",
    "        ----------\n",
    "        out: Bool\n",
    "            True se deu certo, False se não deu\n",
    "        '''\n",
    "        if valor_saque <= self.__saldo:\n",
    "            self.__saldo = self.__saldo - valor_saque\n",
    "            return True\n",
    "        return False\n",
    "    \n",
    "    def transferencia(self, valor_transferencia, recebedor):\n",
    "        '''\n",
    "        Transfere um valor da ContaCorrente de self para ContaCorrente de recebedor\n",
    "        \n",
    "        Parâmetros\n",
    "        ----------\n",
    "        valor_transferencia:float\n",
    "            Valor a ser transferido da ContaCorrente de self para ContaCorrente de recebedor\n",
    "        recebedor:Cliente\n",
    "            Cliente que vai receber a transferência de self\n",
    "        Retorno\n",
    "        ----------\n",
    "        out: Bool\n",
    "            True se deu certo, False se não deu\n",
    "        '''\n",
    "        if valor_transferencia <= self.__saldo:\n",
    "            self.__saldo = self.__saldo - valor_transferencia\n",
    "            recebedor.__saldo = recebedor.__saldo + valor_transferencia\n",
    "            return True\n",
    "        return False\n",
    "    \n",
    "        "
   ]
  },
  {
   "cell_type": "code",
   "execution_count": 50,
   "id": "45241e53-acd1-493c-853d-e17409fe2b6e",
   "metadata": {},
   "outputs": [],
   "source": [
    "philippe = Cliente(\n",
    "    nome = 'Philippe',\n",
    "    idade = 31,\n",
    "    email = 'philippesotero@gmail.com'\n",
    ")\n",
    "\n",
    "dallati = Cliente(\n",
    "    nome = 'Dallati',\n",
    "    idade = 26,\n",
    "    email = 'dallati@gmail.com'\n",
    ")"
   ]
  },
  {
   "cell_type": "code",
   "execution_count": 51,
   "id": "e3140259-cd33-498e-819d-99b561d0417b",
   "metadata": {},
   "outputs": [],
   "source": [
    "conta1 = ContaCorrente(\n",
    "    cliente = philippe,\n",
    "    saldo = 2500\n",
    ")"
   ]
  },
  {
   "cell_type": "code",
   "execution_count": 52,
   "id": "82e6642c-2bde-41ed-ad09-fe944a2de45f",
   "metadata": {},
   "outputs": [],
   "source": [
    "conta2 = ContaCorrente(\n",
    "    cliente = dallati,\n",
    "    saldo = 3500\n",
    ")"
   ]
  },
  {
   "cell_type": "code",
   "execution_count": 58,
   "id": "4446b240-89a6-4975-974a-df60d466c0a7",
   "metadata": {},
   "outputs": [],
   "source": [
    "conta2.deposito(350.3)"
   ]
  },
  {
   "cell_type": "code",
   "execution_count": 59,
   "id": "8cbc2080-0b5d-4194-bfb7-f81590d352f2",
   "metadata": {},
   "outputs": [
    {
     "data": {
      "text/plain": [
       "3700.3"
      ]
     },
     "execution_count": 59,
     "metadata": {},
     "output_type": "execute_result"
    }
   ],
   "source": [
    "conta2.saldo"
   ]
  },
  {
   "cell_type": "code",
   "execution_count": 60,
   "id": "237c1e01-6a1b-4e94-a74e-3e5d6fce20a8",
   "metadata": {},
   "outputs": [
    {
     "data": {
      "text/plain": [
       "True"
      ]
     },
     "execution_count": 60,
     "metadata": {},
     "output_type": "execute_result"
    }
   ],
   "source": [
    "conta2.transferencia(500, conta1)"
   ]
  },
  {
   "cell_type": "code",
   "execution_count": 61,
   "id": "0f56ce98-5894-4931-a8d7-b0bef0323b93",
   "metadata": {},
   "outputs": [
    {
     "data": {
      "text/plain": [
       "500"
      ]
     },
     "execution_count": 61,
     "metadata": {},
     "output_type": "execute_result"
    }
   ],
   "source": [
    "conta1.saldo"
   ]
  },
  {
   "cell_type": "code",
   "execution_count": 62,
   "id": "2ea83307-ae6d-4a8d-89e7-719e1ca7ba76",
   "metadata": {},
   "outputs": [
    {
     "data": {
      "text/plain": [
       "False"
      ]
     },
     "execution_count": 62,
     "metadata": {},
     "output_type": "execute_result"
    }
   ],
   "source": [
    "conta1.saque(3000)"
   ]
  }
 ],
 "metadata": {
  "kernelspec": {
   "display_name": "Python 3",
   "language": "python",
   "name": "python3"
  },
  "language_info": {
   "codemirror_mode": {
    "name": "ipython",
    "version": 3
   },
   "file_extension": ".py",
   "mimetype": "text/x-python",
   "name": "python",
   "nbconvert_exporter": "python",
   "pygments_lexer": "ipython3",
   "version": "3.8.8"
  }
 },
 "nbformat": 4,
 "nbformat_minor": 5
}
