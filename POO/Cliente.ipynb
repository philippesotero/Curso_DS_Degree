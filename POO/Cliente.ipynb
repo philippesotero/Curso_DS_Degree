{
 "cells": [
  {
   "cell_type": "code",
   "execution_count": 12,
   "id": "1e0363ed-c9aa-4915-b7b3-6a56a71a9447",
   "metadata": {},
   "outputs": [],
   "source": [
    "class Cliente:\n",
    "    def __init__(self, nome, idade, email):\n",
    "        '''\n",
    "        Cria a representação de um Cliente\n",
    "\n",
    "        Parâmetros\n",
    "        ----------\n",
    "        nome:str\n",
    "            Nome do Cliente\n",
    "        telefone:str\n",
    "            Telefone do Cliente\n",
    "        email:str\n",
    "            Email do Cliente\n",
    "        '''\n",
    "        \n",
    "        self.nome = nome\n",
    "        self.idade = idade\n",
    "        self.email = email\n",
    "        \n",
    "    def imprimir_dados_cliente(self):\n",
    "        '''\n",
    "        Imprime dados do cliente\n",
    "        \n",
    "        Retorno\n",
    "        ---------\n",
    "        out:str\n",
    "        \n",
    "             Imprime os dados do cliente   \n",
    "        '''\n",
    "        return self\n",
    "        \n",
    "    def __repr__(self):\n",
    "        return f'Nome: {self.nome}\\n\\nIdade: {self.idade}\\n\\nEmail: {self.email}'"
   ]
  },
  {
   "cell_type": "code",
   "execution_count": 13,
   "id": "2c7764d6-3782-4279-b925-20ddd654e995",
   "metadata": {},
   "outputs": [],
   "source": [
    "philippe = Cliente(\n",
    "    nome = 'Philippe',\n",
    "    idade = 31,\n",
    "    email = 'philippesotero@gmail.com'\n",
    ")"
   ]
  },
  {
   "cell_type": "code",
   "execution_count": 14,
   "id": "bf54c00e-9d36-4c4a-aad2-2220f9fda7eb",
   "metadata": {},
   "outputs": [
    {
     "data": {
      "text/plain": [
       "Nome: Philippe\n",
       "\n",
       "Idade: 31\n",
       "\n",
       "Email: philippesotero@gmail.com"
      ]
     },
     "execution_count": 14,
     "metadata": {},
     "output_type": "execute_result"
    }
   ],
   "source": [
    "philippe.imprimir_dados_cliente()"
   ]
  }
 ],
 "metadata": {
  "kernelspec": {
   "display_name": "Python 3",
   "language": "python",
   "name": "python3"
  },
  "language_info": {
   "codemirror_mode": {
    "name": "ipython",
    "version": 3
   },
   "file_extension": ".py",
   "mimetype": "text/x-python",
   "name": "python",
   "nbconvert_exporter": "python",
   "pygments_lexer": "ipython3",
   "version": "3.8.8"
  }
 },
 "nbformat": 4,
 "nbformat_minor": 5
}
