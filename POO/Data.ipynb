{
 "cells": [
  {
   "cell_type": "code",
   "execution_count": 10,
   "id": "be4e6e07-f3fb-4f97-b4d8-f5e52403d95e",
   "metadata": {},
   "outputs": [],
   "source": [
    "class Data:\n",
    "    def __init__(self, dia, mes, ano):\n",
    "        '''\n",
    "        Cria uma Data para que possam ser aplicados \n",
    "        métodos mágicos\n",
    "\n",
    "        Parêmetros\n",
    "        ----------\n",
    "        dia:int\n",
    "            Dia associado a Data\n",
    "        mes:int\n",
    "            Mes associado a Data\n",
    "        ano:int\n",
    "            Ano associado a Data\n",
    "        '''\n",
    "        self.dia = dia\n",
    "        self.mes = mes\n",
    "        self.ano = ano\n",
    "    \n",
    "    def __repr__(self):\n",
    "        return f'{self.dia:02d}/{self.mes:02d}/{self.ano}'\n",
    "    \n",
    "    def __eq__(self, other):\n",
    "        '''\n",
    "        \n",
    "        Compara a igualdade entre a data de self e a data de other\n",
    "        \n",
    "        Parâmetros\n",
    "        ----------\n",
    "        other:Data\n",
    "            Data para comparação\n",
    "        \n",
    "        Retorno\n",
    "        ----------\n",
    "        out:Bool\n",
    "            True se a comparação for verdadeira ou False se comparação for falsa\n",
    "        '''\n",
    "        return self.dia == other.dia and self.mes == other.mes and self.ano == other.ano\n",
    "    \n",
    "    def __ne__(self,other):\n",
    "        '''\n",
    "        Compara a desigaldade entre a data de self e a data de other\n",
    "        \n",
    "        Parâmetros\n",
    "        ----------\n",
    "        other:Data\n",
    "            Data para comparação\n",
    "            \n",
    "        Retorno\n",
    "        ----------\n",
    "        out:Bool\n",
    "            True se a comparação for verdadeira ou False se comparação for falsa\n",
    "        '''\n",
    "        return self.dia != other.dia or self.mes != other.mes or self.ano != other.ano\n",
    "\n",
    "    def __le__(self, other):\n",
    "        '''\n",
    "        Verifica se a data de self é menor ou igual a data de other\n",
    "        \n",
    "        Parâmetros\n",
    "        ----------\n",
    "        other:Data\n",
    "            Data para comparação\n",
    "            \n",
    "        Retorno\n",
    "        ----------\n",
    "        out:Bool\n",
    "            True se a comparação for verdadeira ou False se comparação for falsa\n",
    "        '''\n",
    "        if self.ano < other.ano:\n",
    "            return True\n",
    "        elif self.ano > other.ano:\n",
    "            return False\n",
    "        else:\n",
    "            if self.mes < other.mes:\n",
    "                return True\n",
    "            elif self.mes > other.mes:\n",
    "                return False\n",
    "            else:\n",
    "                if self.dia <= other.dia:\n",
    "                    return True\n",
    "                else:\n",
    "                    return False\n",
    "    \n",
    "    def __ge__(self, other):\n",
    "        '''\n",
    "        Verifica se a data de self é maior ou igual a data de other\n",
    "        \n",
    "        Parâmetros\n",
    "        ----------\n",
    "        other:Data\n",
    "            Data para comparação\n",
    "            \n",
    "        Retorno\n",
    "        ----------\n",
    "        out:Bool\n",
    "            True se a comparação for verdadeira ou False se comparação for falsa\n",
    "        '''\n",
    "        if self.ano > other.ano:\n",
    "            return True\n",
    "        elif self.ano < other.ano:\n",
    "            return False\n",
    "        else:\n",
    "            if self.mes > other.mes:\n",
    "                return True\n",
    "            elif self.mes < other.mes:\n",
    "                return False\n",
    "            else:\n",
    "                if self.dia >= other.dia:\n",
    "                    return True\n",
    "                else:\n",
    "                    return False\n",
    "    \n",
    "    def __lt__(self, other):\n",
    "        '''\n",
    "        Verifica se a data de self é menor que a data de other\n",
    "        \n",
    "        Parâmetros\n",
    "        ----------\n",
    "        other:Data\n",
    "            Data para comparação\n",
    "            \n",
    "        Retorno\n",
    "        ----------\n",
    "        out:Bool\n",
    "            True se a comparação for verdadeira ou False se comparação for falsa\n",
    "        '''\n",
    "        if self.ano < other.ano:\n",
    "            return True\n",
    "        elif self.ano == other.ano:\n",
    "            if self.mes < other.mes:\n",
    "                return True\n",
    "            else:\n",
    "                if self.dia < other.dia:\n",
    "                    return True\n",
    "                else:\n",
    "                    return False\n",
    "        else:\n",
    "            return False\n",
    "    \n",
    "    def __gt__(self, other):\n",
    "        '''\n",
    "        Verifica se a data de self é maior que a data de other\n",
    "        \n",
    "        Parâmetros\n",
    "        ----------\n",
    "        other:Data\n",
    "            Data para comparação\n",
    "            \n",
    "        Retorno\n",
    "        ----------\n",
    "        out:Bool\n",
    "            True se a comparação for verdadeira ou False se comparação for falsa\n",
    "        '''\n",
    "        if self.ano > other.ano:\n",
    "            return True\n",
    "        elif self.ano == other.ano:\n",
    "            if self.mes > other.mes:\n",
    "                return True\n",
    "            else:\n",
    "                if self.dia > other.dia:\n",
    "                    return True\n",
    "                else:\n",
    "                    return False\n",
    "        else:\n",
    "            return False\n",
    "\n",
    "    \n"
   ]
  },
  {
   "cell_type": "code",
   "execution_count": 11,
   "id": "76d08ff2-7b81-4915-99d6-13703b3a5583",
   "metadata": {},
   "outputs": [],
   "source": [
    "data1 = Data(1,2,2020)\n",
    "data2 = Data(2,3,2021)"
   ]
  },
  {
   "cell_type": "code",
   "execution_count": 12,
   "id": "791bc713-675d-471b-884a-5e56dc536251",
   "metadata": {},
   "outputs": [
    {
     "data": {
      "text/plain": [
       "False"
      ]
     },
     "execution_count": 12,
     "metadata": {},
     "output_type": "execute_result"
    }
   ],
   "source": [
    "data1 == data2"
   ]
  },
  {
   "cell_type": "code",
   "execution_count": 13,
   "id": "9b419fa4-d31e-4297-b52a-901dd96e65c0",
   "metadata": {},
   "outputs": [
    {
     "data": {
      "text/plain": [
       "True"
      ]
     },
     "execution_count": 13,
     "metadata": {},
     "output_type": "execute_result"
    }
   ],
   "source": [
    "data1 != data2"
   ]
  },
  {
   "cell_type": "code",
   "execution_count": 15,
   "id": "cd319db4-2213-460f-b827-7f653c7e2b0f",
   "metadata": {},
   "outputs": [
    {
     "data": {
      "text/plain": [
       "True"
      ]
     },
     "execution_count": 15,
     "metadata": {},
     "output_type": "execute_result"
    }
   ],
   "source": [
    "data1 <= data2"
   ]
  },
  {
   "cell_type": "code",
   "execution_count": 16,
   "id": "53fd3925-146e-4857-893e-99606459957d",
   "metadata": {},
   "outputs": [
    {
     "data": {
      "text/plain": [
       "False"
      ]
     },
     "execution_count": 16,
     "metadata": {},
     "output_type": "execute_result"
    }
   ],
   "source": [
    "data1 >= data2"
   ]
  },
  {
   "cell_type": "code",
   "execution_count": 17,
   "id": "d570074b-b286-45cf-8e25-dea355ca67bc",
   "metadata": {},
   "outputs": [
    {
     "data": {
      "text/plain": [
       "True"
      ]
     },
     "execution_count": 17,
     "metadata": {},
     "output_type": "execute_result"
    }
   ],
   "source": [
    "data1 < data2"
   ]
  },
  {
   "cell_type": "code",
   "execution_count": 18,
   "id": "68a858c6-9427-423d-b18c-670fd83a7643",
   "metadata": {},
   "outputs": [
    {
     "data": {
      "text/plain": [
       "False"
      ]
     },
     "execution_count": 18,
     "metadata": {},
     "output_type": "execute_result"
    }
   ],
   "source": [
    "data1 > data2"
   ]
  },
  {
   "cell_type": "code",
   "execution_count": null,
   "id": "c8435eb6-0a78-42db-8972-a0cb0aee3d90",
   "metadata": {},
   "outputs": [],
   "source": []
  },
  {
   "cell_type": "code",
   "execution_count": null,
   "id": "a2a42948-34ab-4d58-a445-32e8196af163",
   "metadata": {},
   "outputs": [],
   "source": []
  },
  {
   "cell_type": "code",
   "execution_count": null,
   "id": "ddfdb25c-df34-4e2a-a765-7aa5062201be",
   "metadata": {},
   "outputs": [],
   "source": []
  }
 ],
 "metadata": {
  "kernelspec": {
   "display_name": "Python 3",
   "language": "python",
   "name": "python3"
  },
  "language_info": {
   "codemirror_mode": {
    "name": "ipython",
    "version": 3
   },
   "file_extension": ".py",
   "mimetype": "text/x-python",
   "name": "python",
   "nbconvert_exporter": "python",
   "pygments_lexer": "ipython3",
   "version": "3.8.8"
  }
 },
 "nbformat": 4,
 "nbformat_minor": 5
}
