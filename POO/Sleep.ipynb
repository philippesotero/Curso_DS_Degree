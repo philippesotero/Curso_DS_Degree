{
 "cells": [
  {
   "cell_type": "code",
   "execution_count": 1,
   "id": "77b0eb48-f525-46a8-b8c8-10bbb47dc124",
   "metadata": {},
   "outputs": [],
   "source": [
    "import time\n",
    "\n",
    "class Cronometro:\n",
    "    def __init__(self):\n",
    "        '''\n",
    "        Cria a representação de um Cronometro\n",
    "        \n",
    "        '''      \n",
    "        \n",
    "    def cronometrar_tempo(self, tempo_a_ser_cronometrado = None):\n",
    "        '''\n",
    "        Cronometra o tempo com intervalos de 1 segundo\n",
    "        \n",
    "        Parâmetros Opcionais\n",
    "        ---------------------\n",
    "        tempo_a_ser_cronometrado:str\n",
    "            Informe o tempo a ser cronometrado no formato 'HH:MM:SS'. Exemplo: '01:02:03'\n",
    "        '''\n",
    "        \n",
    "        segundos = 0\n",
    "        minutos = 0\n",
    "        horas = 0\n",
    "\n",
    "        if tempo_a_ser_cronometrado == None:\n",
    "            while True:\n",
    "                segundos += 1\n",
    "                if segundos == 60:\n",
    "                    segundos = 0\n",
    "                    minutos += 1\n",
    "                    if minutos == 60:\n",
    "                        minutos = 0\n",
    "                        horas += 1\n",
    "                time.sleep(1)\n",
    "                print(f'{horas:02d}:{minutos:02d}:{segundos:02d}', end = '\\r')\n",
    "        else:\n",
    "            tempo_separado = tempo_a_ser_cronometrado.split(':')\n",
    "            while True:\n",
    "                segundos += 1\n",
    "                if segundos == 60:\n",
    "                    segundos = 0\n",
    "                    minutos += 1\n",
    "                    if minutos == 60:\n",
    "                        minutos = 0\n",
    "                        horas += 1\n",
    "                time.sleep(1)\n",
    "                print(f'{horas:02d}:{minutos:02d}:{segundos:02d}', end = '\\r')\n",
    "                if int(tempo_separado[0]) == horas and int(tempo_separado[1]) == minutos and int(tempo_separado[2]) == segundos:\n",
    "                    break\n",
    "        print(f'Fim do crônometro. O tempo percorrido foi de {tempo_a_ser_cronometrado}.')"
   ]
  },
  {
   "cell_type": "code",
   "execution_count": null,
   "id": "4887b012-47dc-40b8-956a-968166a40fea",
   "metadata": {},
   "outputs": [
    {
     "name": "stdout",
     "output_type": "stream",
     "text": [
      "87:16:44\r"
     ]
    }
   ],
   "source": [
    "#Teste\n",
    "cronometro1 = Cronometro()\n",
    "cronometro1.cronometrar_tempo()"
   ]
  }
 ],
 "metadata": {
  "kernelspec": {
   "display_name": "Python 3",
   "language": "python",
   "name": "python3"
  },
  "language_info": {
   "codemirror_mode": {
    "name": "ipython",
    "version": 3
   },
   "file_extension": ".py",
   "mimetype": "text/x-python",
   "name": "python",
   "nbconvert_exporter": "python",
   "pygments_lexer": "ipython3",
   "version": "3.8.8"
  }
 },
 "nbformat": 4,
 "nbformat_minor": 5
}
