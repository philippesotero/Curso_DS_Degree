{
 "cells": [
  {
   "cell_type": "code",
   "execution_count": 88,
   "id": "6603a431-2825-4be8-9c11-9e2f1a83de31",
   "metadata": {},
   "outputs": [],
   "source": [
    "class Relogio:\n",
    "    def __init__(self, hora, minuto, segundo):\n",
    "          \n",
    "        # Verificação dos tipos\n",
    "        if not isinstance(hora, int):\n",
    "            raise TypeError('Hora precisa ser do tipo inteiro.')\n",
    "        if not isinstance(minuto, int):\n",
    "            raise TypeError('Minuto precisa ser do tipo inteiro.')    \n",
    "        if not isinstance(segundo, int):\n",
    "            raise TypeError('Segundo precisa ser do tipo inteiro.')\n",
    "        \n",
    "        # Verificação dos intervalos\n",
    "        \n",
    "        if hora < 0 or hora > 23:\n",
    "            raise ValueError('Hora precisa estar no intervalo de 0 - 23')\n",
    "        if minuto < 0 or hora > 59:\n",
    "            raise ValueError('Minuto precisa estar no intervalo de 0 - 59')\n",
    "        if segundo < 0 or segundo > 59:\n",
    "            raise ValueError('Segundo precisa estar no intervalo de 0 - 59')\n",
    "            \n",
    "        self.hora = hora\n",
    "        self.minuto = minuto\n",
    "        self.segundo = segundo\n",
    "    \n",
    "    def __repr__(self):\n",
    "        return f'{self.hora:02d}:{self.minuto:02d}:{self.segundo:02d}'\n",
    "            \n",
    "    def __str__(self):\n",
    "        return f'{self.hora:02d}:{self.minuto:02d}:{self.segundo:02d}'\n",
    "            \n",
    "    def __add__(self, other):\n",
    "        minuto = 0\n",
    "        hora = 0\n",
    "       \n",
    "        segundos = self.segundo + other.segundo \n",
    "        if segundos > 59 :\n",
    "            segundos = segundos - 60\n",
    "            minutos = 1\n",
    "        minutos = minutos + self.minuto + other.minuto\n",
    "        if minutos > 59:\n",
    "            minutos = minutos - 60\n",
    "            hora = 1\n",
    "        hora = hora + self.hora + other.hora\n",
    "        if hora > 23:\n",
    "            hora = hora - 24\n",
    "\n",
    "        soma = Relogio(hora, minutos, segundos)\n",
    "        return soma\n",
    "    \n",
    "    def __sub__(self, other):\n",
    "        minutos = 0\n",
    "        hora = 0\n",
    "        \n",
    "        segundos = self.segundo - other.segundo \n",
    "        if segundos < 0 :\n",
    "            segundos = segundos + 60\n",
    "            minutos = 1\n",
    "        minutos = self.minuto - other.minuto - minutos\n",
    "        if minutos < 0:\n",
    "            minutos = minutos + 60\n",
    "            hora = 1\n",
    "        hora = self.hora - other.hora - hora\n",
    "        if hora < 0:\n",
    "            hora = hora + 24\n",
    "\n",
    "        sub = Relogio(hora, minutos, segundos)\n",
    "        return sub \n",
    "        \n",
    "        \n",
    "    def __lt__(self, other):\n",
    "        if self.hora < other.hora:\n",
    "            return True\n",
    "        elif self.hora == other.hora:\n",
    "            if self.minuto < other.minuto:\n",
    "                return True\n",
    "            elif self.minuto == other.minutos:\n",
    "                if self.segundo < other.segundo:\n",
    "                    return True\n",
    "        return False"
   ]
  },
  {
   "cell_type": "code",
   "execution_count": 89,
   "id": "a92c3303-22eb-4536-bf84-ba57ba477bd3",
   "metadata": {},
   "outputs": [],
   "source": [
    "relogio1 = Relogio(\n",
    "    hora = 1,\n",
    "    minuto = 2,\n",
    "    segundo = 52\n",
    ")\n",
    "\n",
    "relogio2 = Relogio(\n",
    "    hora = 1,\n",
    "    minuto = 3,\n",
    "    segundo = 45\n",
    ")"
   ]
  },
  {
   "cell_type": "code",
   "execution_count": 90,
   "id": "56cac361-4752-4c7e-a728-d7a3f22f9d4e",
   "metadata": {},
   "outputs": [
    {
     "data": {
      "text/plain": [
       "23:59:07"
      ]
     },
     "execution_count": 90,
     "metadata": {},
     "output_type": "execute_result"
    }
   ],
   "source": [
    "relogio1 - relogio2"
   ]
  },
  {
   "cell_type": "code",
   "execution_count": 31,
   "id": "5c23fd7b-9944-4eaf-9a78-b0fffdb58e99",
   "metadata": {},
   "outputs": [
    {
     "data": {
      "text/plain": [
       "[02:59:52, 01:03:45]"
      ]
     },
     "execution_count": 31,
     "metadata": {},
     "output_type": "execute_result"
    }
   ],
   "source": [
    "lista_relogio = [relogio1, relogio2]\n",
    "lista_relogio"
   ]
  }
 ],
 "metadata": {
  "kernelspec": {
   "display_name": "Python 3",
   "language": "python",
   "name": "python3"
  },
  "language_info": {
   "codemirror_mode": {
    "name": "ipython",
    "version": 3
   },
   "file_extension": ".py",
   "mimetype": "text/x-python",
   "name": "python",
   "nbconvert_exporter": "python",
   "pygments_lexer": "ipython3",
   "version": "3.8.8"
  }
 },
 "nbformat": 4,
 "nbformat_minor": 5
}
