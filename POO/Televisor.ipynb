{
 "cells": [
  {
   "cell_type": "code",
   "execution_count": 79,
   "id": "1e53768b-f03e-439d-b7f3-468fecb57033",
   "metadata": {},
   "outputs": [],
   "source": [
    "class Televisor:\n",
    "    \n",
    "    def __init__(self, fabricante, modelo):\n",
    "        '''\n",
    "        Cria uma representação de uma Televisão\n",
    "\n",
    "        Parâmetros\n",
    "        ----------\n",
    "        fabricante:str\n",
    "            Nome do fabricante da televisão\n",
    "        modelo:str\n",
    "            Modelo da Televisão\n",
    "        \n",
    "        Parâmetros Opcionais\n",
    "        --------------------\n",
    "        canal_atual:int\n",
    "            Canal atual da televisão, inicializado em 0\n",
    "        lista_canais:list\n",
    "            Lista com canais sintonizados na televisão\n",
    "        volume:int\n",
    "            volume da televisão, inicializado em 0\n",
    "        '''\n",
    "        self.fabricante = fabricante\n",
    "        self.modelo = modelo\n",
    "        self.canal_atual = 0\n",
    "        self.lista_canais = []\n",
    "        self.volume = 0\n",
    "        \n",
    "    def ajustar_volume(self, volume):\n",
    "        '''\n",
    "        Ajusta o volume da televisão\n",
    "        \n",
    "        Parâmetros\n",
    "        ----------\n",
    "        volume:int\n",
    "            Volume desejado para ajuste na televisão\n",
    "        \n",
    "        Retorno\n",
    "        ----------\n",
    "        out: Bool\n",
    "            True se deu certo, False se não deu\n",
    "        '''\n",
    "            \n",
    "        if volume >= 0 and volume <= 100:\n",
    "            self.volume = volume\n",
    "            return True\n",
    "        return False\n",
    "            \n",
    "    def sintonizar_canal(self, canal_a_ser_sintonizado):\n",
    "        '''\n",
    "        Sintoniza um canal na televisão\n",
    "        \n",
    "        Parâmetros\n",
    "        ----------\n",
    "        canal_a_ser_sintonizado:int\n",
    "            Canal desejado para ser sintonizado na televisão\n",
    "        \n",
    "        Retorno\n",
    "        ----------\n",
    "        out: Bool\n",
    "            True se deu certo, False se não deu\n",
    "        '''\n",
    "        if canal_a_ser_sintonizado not in self.lista_canais:\n",
    "            self.lista_canais.append(canal_a_ser_sintonizado)\n",
    "            return True\n",
    "        return False \n",
    "        \n",
    "    def trocar_canal(self, canal_desejado):\n",
    "        '''\n",
    "        Ajusta o volume da televisão\n",
    "\n",
    "        Parâmetros\n",
    "        ----------\n",
    "        canal_desejado:int\n",
    "            Canal desejado para ajuste na televisão\n",
    "\n",
    "        Retorno\n",
    "        ----------\n",
    "        out: Bool\n",
    "            True se deu certo, False se não deu\n",
    "        '''\n",
    "        if canal_desejado in self.lista_canais:\n",
    "            self.canal_atual = canal_desejado\n",
    "            return True\n",
    "        return False\n",
    "    \n",
    "    def imprimir_informacoes_tv(self):\n",
    "        return self\n",
    "    \n",
    "    def __repr__(self):\n",
    "        return f'O fabricante da TV é {self.fabricante} e o modelo da tv é {self.modelo}'\n",
    "    "
   ]
  },
  {
   "cell_type": "code",
   "execution_count": 80,
   "id": "579da11d-1689-4f35-8d4b-4d01ac000a0d",
   "metadata": {},
   "outputs": [],
   "source": [
    "tv1 = Televisor(\n",
    "    fabricante = 'Samsung',\n",
    "    modelo = 'J5500'\n",
    ")"
   ]
  },
  {
   "cell_type": "code",
   "execution_count": 75,
   "id": "aeccdbc9-b8c2-4b7b-a452-90915350b21e",
   "metadata": {},
   "outputs": [
    {
     "name": "stdout",
     "output_type": "stream",
     "text": [
      "20\n",
      "[16]\n",
      "16\n"
     ]
    }
   ],
   "source": [
    "\n",
    "#Testes\n",
    "tv1.ajustar_volume(20)\n",
    "print(tv1.volume)\n",
    "tv1.sintonizar_canal(16)\n",
    "print(tv1.lista_canais)\n",
    "tv1.trocar_canal(16)\n",
    "print(tv1.canal_atual)"
   ]
  },
  {
   "cell_type": "code",
   "execution_count": 81,
   "id": "5ea1f925-8b66-4127-80b6-c80cd7f35f40",
   "metadata": {},
   "outputs": [
    {
     "data": {
      "text/plain": [
       "O fabricante da TV é Samsung e o modelo da tv é J5500"
      ]
     },
     "execution_count": 81,
     "metadata": {},
     "output_type": "execute_result"
    }
   ],
   "source": [
    "tv1.imprimir_informacoes_tv()"
   ]
  }
 ],
 "metadata": {
  "kernelspec": {
   "display_name": "Python 3",
   "language": "python",
   "name": "python3"
  },
  "language_info": {
   "codemirror_mode": {
    "name": "ipython",
    "version": 3
   },
   "file_extension": ".py",
   "mimetype": "text/x-python",
   "name": "python",
   "nbconvert_exporter": "python",
   "pygments_lexer": "ipython3",
   "version": "3.8.8"
  }
 },
 "nbformat": 4,
 "nbformat_minor": 5
}
