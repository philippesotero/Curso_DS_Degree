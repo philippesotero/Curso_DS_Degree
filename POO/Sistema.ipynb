{
 "cells": [
  {
   "cell_type": "code",
   "execution_count": 1,
   "id": "c9e910d1-7199-45ee-8a7b-348a68540c53",
   "metadata": {},
   "outputs": [],
   "source": [
    "class Cliente:\n",
    "    def __init__(self, nome, idade, email):\n",
    "        '''\n",
    "        Cria a representação de um Cliente\n",
    "\n",
    "        Parâmetros\n",
    "        ----------\n",
    "        nome:str\n",
    "            Nome do Cliente\n",
    "        idade:int\n",
    "            Idade do Cliente\n",
    "        email:str\n",
    "            Email do Cliente\n",
    "        '''\n",
    "        self.nome = nome\n",
    "        self.idade = idade\n",
    "        self.email = email\n",
    "    \n",
    "        \n",
    "    def __repr__(self):\n",
    "        texto  = \"Nome: {}\\nIdade: {}\\nE-mail: {}\".format(\n",
    "            self.nome,\n",
    "            self.idade,\n",
    "            self.email\n",
    "        )\n",
    "        return texto\n",
    "\n",
    "class Sistema:\n",
    "    def __init__(self):\n",
    "        self.clientes = []\n",
    "    \n",
    "    def cadastra_cliente(self, nome, idade, email):\n",
    "        '''\n",
    "        Cadastra um cliente no Sistema\n",
    "\n",
    "        Parâmetros\n",
    "        ----------\n",
    "        nome:str\n",
    "            Nome do Cliente\n",
    "        idade:int\n",
    "            Idade do Cliente\n",
    "        email:str\n",
    "            Email do Cliente\n",
    "        '''\n",
    "        cliente = Cliente(\n",
    "            nome=nome,\n",
    "            idade=idade,\n",
    "            email=email\n",
    "        )           \n",
    "        self.clientes.append(cliente)\n",
    "        \n",
    "    def imprimir_cadastrados(self):\n",
    "        '''\n",
    "        Imprime a lista de Clientes cadastrados no sistema\n",
    "        \n",
    "        Retorno\n",
    "        -------\n",
    "        out:list\n",
    "            Retorna uma lista com os clientes cadastrados no sistema\n",
    "        '''\n",
    "        lista = print(sistema1.clientes)\n",
    "        return lista\n",
    "    \n",
    "    def alterar_cadastro(self, nome_alterar, nome, idade, email):\n",
    "        '''\n",
    "        Altera o cadastro de um cliente\n",
    "        \n",
    "        Parâmetros\n",
    "        ----------\n",
    "        nome_alterar:str\n",
    "            Nome que deseja ser alterado no cadastro\n",
    "        nome:str\n",
    "            Nome do Cliente para alteração\n",
    "        idade:int\n",
    "            Idade do Cliente para alteração\n",
    "        email:str\n",
    "            Email do Cliente para alteração\n",
    "        \n",
    "        \n",
    "        '''\n",
    "        for i in range(len(self.clientes)):\n",
    "            if self.clientes[i].nome == nome_alterar:\n",
    "                self.clientes[i].nome = nome\n",
    "                self.clientes[i].idade = idade\n",
    "                self.clientes[i].email = email\n",
    "        \n",
    "        \n",
    "        \n",
    "        \n"
   ]
  },
  {
   "cell_type": "code",
   "execution_count": 2,
   "id": "d9dda86d-6bde-4b48-aec8-3768accda465",
   "metadata": {},
   "outputs": [],
   "source": [
    "sistema1 = Sistema()"
   ]
  },
  {
   "cell_type": "code",
   "execution_count": 3,
   "id": "321f8d1c-d0fc-4089-956d-1936507f5575",
   "metadata": {},
   "outputs": [],
   "source": [
    "sistema1.cadastra_cliente('philippe', 31, 'philippegmail')"
   ]
  },
  {
   "cell_type": "code",
   "execution_count": null,
   "id": "c89efe90-d7bf-425f-974a-f80205cddb42",
   "metadata": {},
   "outputs": [],
   "source": [
    "sistema1.clientes[0].nome"
   ]
  },
  {
   "cell_type": "code",
   "execution_count": null,
   "id": "0f4f8e88-a63a-438b-975c-af91a0268c55",
   "metadata": {},
   "outputs": [
    {
     "name": "stdin",
     "output_type": "stream",
     "text": [
      "\n",
      "Para iniciar o sistema escolha as opções abaixo:\n",
      "a - Imprimir os cadastrados\n",
      "b - Cadastrar um novo cliente\n",
      "c - Alterar um cadastro\n",
      "d - Sair\n",
      " b\n",
      "Digite seu nome:  dallati\n",
      "Digite sua idade:  35\n",
      "Digite seu email:  dallati2009@hotmail.com\n",
      "\n",
      "Para iniciar o sistema escolha as opções abaixo:\n",
      "a - Imprimir os cadastrados\n",
      "b - Cadastrar um novo cliente\n",
      "c - Alterar um cadastro\n",
      "d - Sair\n",
      " a\n"
     ]
    },
    {
     "name": "stdout",
     "output_type": "stream",
     "text": [
      "[Nome: philippe\n",
      "Idade: 31\n",
      "E-mail: philippegmail, Nome: dallati\n",
      "Idade: 35\n",
      "E-mail: dallati2009@hotmail.com]\n"
     ]
    },
    {
     "name": "stdin",
     "output_type": "stream",
     "text": [
      "\n",
      "Para iniciar o sistema escolha as opções abaixo:\n",
      "a - Imprimir os cadastrados\n",
      "b - Cadastrar um novo cliente\n",
      "c - Alterar um cadastro\n",
      "d - Sair\n",
      " b\n",
      "Digite seu nome:  dalva\n",
      "Digite sua idade:  56\n",
      "Digite seu email:  dalva@gamil.com\n",
      "\n",
      "Para iniciar o sistema escolha as opções abaixo:\n",
      "a - Imprimir os cadastrados\n",
      "b - Cadastrar um novo cliente\n",
      "c - Alterar um cadastro\n",
      "d - Sair\n",
      " a\n"
     ]
    },
    {
     "name": "stdout",
     "output_type": "stream",
     "text": [
      "[Nome: philippe\n",
      "Idade: 31\n",
      "E-mail: philippegmail, Nome: dallati\n",
      "Idade: 35\n",
      "E-mail: dallati2009@hotmail.com, Nome: dalva\n",
      "Idade: 56\n",
      "E-mail: dalva@gamil.com]\n"
     ]
    },
    {
     "name": "stdin",
     "output_type": "stream",
     "text": [
      "\n",
      "Para iniciar o sistema escolha as opções abaixo:\n",
      "a - Imprimir os cadastrados\n",
      "b - Cadastrar um novo cliente\n",
      "c - Alterar um cadastro\n",
      "d - Sair\n",
      " c\n",
      "Digite nome que deseja alterar:  dalva\n",
      "Digite o novo nome:  vini\n",
      "Digite a nova idade:  23\n",
      "Digite o novo email:  fghl\n",
      "\n",
      "Para iniciar o sistema escolha as opções abaixo:\n",
      "a - Imprimir os cadastrados\n",
      "b - Cadastrar um novo cliente\n",
      "c - Alterar um cadastro\n",
      "d - Sair\n",
      " a\n"
     ]
    },
    {
     "name": "stdout",
     "output_type": "stream",
     "text": [
      "[Nome: philippe\n",
      "Idade: 31\n",
      "E-mail: philippegmail, Nome: dallati\n",
      "Idade: 35\n",
      "E-mail: dallati2009@hotmail.com, Nome: vini\n",
      "Idade: 23\n",
      "E-mail: fghl]\n"
     ]
    }
   ],
   "source": [
    "sistema = ''\n",
    "while sistema != 'd':\n",
    "    sistema = input('\\nPara iniciar o sistema escolha as opções abaixo:\\n'\n",
    "                    'a - Imprimir os cadastrados\\n'\n",
    "                    'b - Cadastrar um novo cliente\\n'\n",
    "                    'c - Alterar um cadastro\\n'\n",
    "                    'd - Sair\\n').lower()\n",
    "    \n",
    "    if sistema == 'a':\n",
    "\n",
    "        sistema1.imprimir_cadastrados()\n",
    "\n",
    "    elif sistema == 'b':\n",
    "\n",
    "        nome = input('Digite seu nome: ')\n",
    "        idade = input('Digite sua idade: ')\n",
    "        email = input('Digite seu email: ')\n",
    "        sistema1.cadastra_cliente(nome, idade, email)\n",
    "    \n",
    "    elif sistema == 'c':\n",
    "        \n",
    "        nome_alterar = input('Digite nome que deseja alterar: ')\n",
    "        nome = input('Digite o novo nome: ')\n",
    "        idade = input('Digite a nova idade: ')\n",
    "        email = input('Digite o novo email: ')\n",
    "        \n",
    "        sistema1.alterar_cadastro(nome_alterar, nome, idade, email)\n",
    "    \n",
    "        \n",
    "        "
   ]
  },
  {
   "cell_type": "code",
   "execution_count": null,
   "id": "e43f2203-4e41-4bcb-a0a3-f571a5835f96",
   "metadata": {},
   "outputs": [],
   "source": [
    "sistema1.clientes\n",
    "\n",
    "    "
   ]
  },
  {
   "cell_type": "code",
   "execution_count": null,
   "id": "27b4bf46-c75b-46f3-84bb-124acef35c7a",
   "metadata": {},
   "outputs": [],
   "source": []
  }
 ],
 "metadata": {
  "kernelspec": {
   "display_name": "Python 3",
   "language": "python",
   "name": "python3"
  },
  "language_info": {
   "codemirror_mode": {
    "name": "ipython",
    "version": 3
   },
   "file_extension": ".py",
   "mimetype": "text/x-python",
   "name": "python",
   "nbconvert_exporter": "python",
   "pygments_lexer": "ipython3",
   "version": "3.8.8"
  }
 },
 "nbformat": 4,
 "nbformat_minor": 5
}
