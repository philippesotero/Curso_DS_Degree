{
 "cells": [
  {
   "cell_type": "code",
   "execution_count": 12,
   "id": "b8517f5e-bc3c-4ceb-95f6-1f44d419190c",
   "metadata": {},
   "outputs": [],
   "source": [
    "class Fracao:\n",
    "    def __init__(self, numerador, denominador):\n",
    "        '''\n",
    "        Cria uma Fração para permitir operações com ela\n",
    "        \n",
    "        Parâmetros\n",
    "        ----------\n",
    "        numerador:int\n",
    "            Numerador de Fração\n",
    "            \n",
    "        denominador:int\n",
    "            Denominador da Fração\n",
    "        \n",
    "        '''\n",
    "        \n",
    "        if(denominador == 0):\n",
    "            raise ValueError('Denominador não pode ser 0.')\n",
    "            \n",
    "        self.numerador = numerador\n",
    "        self.denominador = denominador\n",
    "        \n",
    "    def valor(self):\n",
    "        '''\n",
    "        Realiza a divisão do numerador de self pelo deominador de self\n",
    "        '''\n",
    "        return self.numerador/self.denominador\n",
    "        \n",
    "    def __repr__(self):\n",
    "        return f'{self.numerador}/{self.denominador}'\n",
    "    \n",
    "    def __add__(self, other):\n",
    "        '''\n",
    "        Realiza a soma de duas Frações\n",
    "        \n",
    "        Parâmetros\n",
    "        ----------\n",
    "        other:Fração\n",
    "            Fração a ser somada com self\n",
    "        '''\n",
    "        num = self.numerador*other.denominador +\\\n",
    "        self.denominador*other.numerador\n",
    "        \n",
    "        den = self.denominador*other.denominador\n",
    "        \n",
    "        return Fracao(num, den)\n",
    "    \n",
    "    def __sub__(self, other):\n",
    "        '''\n",
    "        Realiza a subtração de duas Frações\n",
    "        \n",
    "        Parâmetros\n",
    "        ----------\n",
    "        other:Fração\n",
    "            Fração a ser subtraída de self\n",
    "        '''\n",
    "        num = self.numerador*other.denominador -\\\n",
    "        self.denominador*other.numerador\n",
    "        \n",
    "        den = self.denominador*other.denominador\n",
    "        \n",
    "        return Fracao(num, den)\n",
    "    \n",
    "    def __mul__(self, other):\n",
    "        '''\n",
    "        Realiza a multiplicação de duas Frações\n",
    "        \n",
    "        Parâmetros\n",
    "        ----------\n",
    "        other:Fração\n",
    "            Fração a ser multiplicada com self\n",
    "        '''\n",
    "        num = self.numerador * other.numerador\n",
    "        den = self.denominador * other.denominador\n",
    "        \n",
    "        return Fracao(num, den)\n",
    "    \n",
    "    def __truediv__(self, other):\n",
    "        '''\n",
    "        Realiza a divisão de duas Frações\n",
    "        \n",
    "        Parâmetros\n",
    "        ----------\n",
    "        other:Fração\n",
    "            Fração a ser dividida com self\n",
    "        '''\n",
    "        num = self.numerador*other.denominador\n",
    "        den = self.denominador*other.numerador\n",
    "        \n",
    "        return Fracao(num, den)\n",
    "    \n",
    "    def __eq__(self, other):\n",
    "        '''\n",
    "        Compara a igualdade entre a Fração de self e a Fração de other\n",
    "        \n",
    "        Parâmetros\n",
    "        ----------\n",
    "        other:Fração\n",
    "            Fração para comparação\n",
    "        '''\n",
    "        return self.valor() == other.valor()\n",
    "    \n",
    "    def __lt__(self, other):\n",
    "        '''\n",
    "        Verifica se a Fração de self é menor que a Fração de other\n",
    "        \n",
    "        Parâmetros\n",
    "        ----------\n",
    "        other:Fração\n",
    "            Fração para comparação\n",
    "        '''\n",
    "        return self.valor() < other.valor()\n",
    "    \n",
    "    def __le__(self, other):\n",
    "        '''\n",
    "        Verifica se a Fração de self é menor ou igual a Fração de other\n",
    "        \n",
    "        Parâmetros\n",
    "        ----------\n",
    "        other:Fração\n",
    "            Fração para comparação\n",
    "        '''\n",
    "        return self.valor() <= other.valor()\n",
    "    \n",
    "    def __gt__(self, other):\n",
    "        '''\n",
    "        Verifica se a Fração de self é maior que a Fração de other\n",
    "        \n",
    "        Parâmetros\n",
    "        ----------\n",
    "        other:Fração\n",
    "            Fração para comparação\n",
    "        '''\n",
    "        return self.valor() > other.valor()  \n",
    "    \n",
    "    def __ge__(self, other):\n",
    "        '''\n",
    "        Verifica se a Fração de self é maior ou igual a Fração de other\n",
    "        \n",
    "        Parâmetros\n",
    "        ----------\n",
    "        other:Fração\n",
    "            Fração para comparação\n",
    "        '''\n",
    "        return self.valor() >= other.valor()"
   ]
  },
  {
   "cell_type": "code",
   "execution_count": 13,
   "id": "41a1f544-2fdb-46ab-8dfa-9fc15532ed0f",
   "metadata": {},
   "outputs": [],
   "source": [
    "fracao1 = Fracao(2, 3)\n",
    "fracao2 = Fracao(3, 6)"
   ]
  },
  {
   "cell_type": "code",
   "execution_count": 14,
   "id": "432ab60c-319e-453c-a0a4-cfde0f5a7afd",
   "metadata": {},
   "outputs": [
    {
     "data": {
      "text/plain": [
       "21/18"
      ]
     },
     "execution_count": 14,
     "metadata": {},
     "output_type": "execute_result"
    }
   ],
   "source": [
    "fracao1 + fracao2"
   ]
  },
  {
   "cell_type": "code",
   "execution_count": 15,
   "id": "70e14b16-fac5-4ff1-846a-649fe81c6720",
   "metadata": {},
   "outputs": [
    {
     "data": {
      "text/plain": [
       "3/18"
      ]
     },
     "execution_count": 15,
     "metadata": {},
     "output_type": "execute_result"
    }
   ],
   "source": [
    "fracao1 - fracao2"
   ]
  },
  {
   "cell_type": "code",
   "execution_count": 16,
   "id": "e4f75282-2bf6-4647-8d7d-472c321e4642",
   "metadata": {},
   "outputs": [
    {
     "data": {
      "text/plain": [
       "6/18"
      ]
     },
     "execution_count": 16,
     "metadata": {},
     "output_type": "execute_result"
    }
   ],
   "source": [
    "fracao1 * fracao2"
   ]
  },
  {
   "cell_type": "code",
   "execution_count": 17,
   "id": "816331be-3916-4276-98f0-146f54968baf",
   "metadata": {},
   "outputs": [
    {
     "data": {
      "text/plain": [
       "12/9"
      ]
     },
     "execution_count": 17,
     "metadata": {},
     "output_type": "execute_result"
    }
   ],
   "source": [
    "fracao1 / fracao2"
   ]
  },
  {
   "cell_type": "code",
   "execution_count": 18,
   "id": "80451d22-d869-4c72-a6e3-228f4393ce4e",
   "metadata": {},
   "outputs": [
    {
     "data": {
      "text/plain": [
       "False"
      ]
     },
     "execution_count": 18,
     "metadata": {},
     "output_type": "execute_result"
    }
   ],
   "source": [
    "fracao1 == fracao2"
   ]
  },
  {
   "cell_type": "code",
   "execution_count": 19,
   "id": "853ce26d-4f56-4c57-a528-a1447145cfba",
   "metadata": {},
   "outputs": [
    {
     "data": {
      "text/plain": [
       "False"
      ]
     },
     "execution_count": 19,
     "metadata": {},
     "output_type": "execute_result"
    }
   ],
   "source": [
    "fracao1 < fracao2"
   ]
  },
  {
   "cell_type": "code",
   "execution_count": 20,
   "id": "12fa1cff-e3a1-44a1-ad67-4dac60202fd6",
   "metadata": {},
   "outputs": [
    {
     "data": {
      "text/plain": [
       "False"
      ]
     },
     "execution_count": 20,
     "metadata": {},
     "output_type": "execute_result"
    }
   ],
   "source": [
    "fracao1 <= fracao2"
   ]
  },
  {
   "cell_type": "code",
   "execution_count": 21,
   "id": "f34962fd-a054-4fd8-b644-8a69497da1b1",
   "metadata": {},
   "outputs": [
    {
     "data": {
      "text/plain": [
       "True"
      ]
     },
     "execution_count": 21,
     "metadata": {},
     "output_type": "execute_result"
    }
   ],
   "source": [
    "fracao1 > fracao2"
   ]
  },
  {
   "cell_type": "code",
   "execution_count": 22,
   "id": "0e4f963c-ed7e-421c-8b48-fedfa4d42b03",
   "metadata": {},
   "outputs": [
    {
     "data": {
      "text/plain": [
       "True"
      ]
     },
     "execution_count": 22,
     "metadata": {},
     "output_type": "execute_result"
    }
   ],
   "source": [
    "fracao1 >= fracao2"
   ]
  }
 ],
 "metadata": {
  "kernelspec": {
   "display_name": "Python 3",
   "language": "python",
   "name": "python3"
  },
  "language_info": {
   "codemirror_mode": {
    "name": "ipython",
    "version": 3
   },
   "file_extension": ".py",
   "mimetype": "text/x-python",
   "name": "python",
   "nbconvert_exporter": "python",
   "pygments_lexer": "ipython3",
   "version": "3.8.8"
  }
 },
 "nbformat": 4,
 "nbformat_minor": 5
}
