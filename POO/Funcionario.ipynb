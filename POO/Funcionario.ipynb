{
 "cells": [
  {
   "cell_type": "code",
   "execution_count": 21,
   "id": "aad08422-0767-44e6-9454-79c4832ca97c",
   "metadata": {},
   "outputs": [],
   "source": [
    "class Funcionario:\n",
    "    def __init__(self, nome, email):\n",
    "        '''\n",
    "        Cria um retângulo\n",
    "        \n",
    "        Parâmetros\n",
    "        ----------\n",
    "        nome: str\n",
    "            Nome do funcionário\n",
    "        email: float\n",
    "            Email do funcionário\n",
    "        '''\n",
    "        self.nome = nome\n",
    "        self.email = email\n",
    "        self.horas_trabalhadas = {}\n",
    "        self.salario_hora = {}\n",
    "        self.salario = 0\n",
    "        \n",
    "    def lancar_horas_trabalhadas(self, mes, quantidade_horas):\n",
    "        '''\n",
    "        Guarda horas trabalhadas durante o mês\n",
    "        \n",
    "        Parâmetros\n",
    "        ----------\n",
    "        mes : str\n",
    "            Mês de referência para horas trabalhadas, exemplo: \"10/2021\"\n",
    "        quantidade_horas : float\n",
    "            Quantidade de horas trabalhadas durante o mês\n",
    "        '''\n",
    "        self.horas_trabalhadas[mes] = quantidade_horas\n",
    "        \n",
    "    def salario_hora_mes(self, mes, salario_hora_mes):\n",
    "        '''\n",
    "        Guarda o salário por hora do mes de referência\n",
    "        \n",
    "        Parêmetros\n",
    "        ----------\n",
    "        \n",
    "        mes : str\n",
    "            Mês de referência para o valor da hora, exemplo: \"10/2021\"\n",
    "        salario_hora_mes : float\n",
    "            Valor da hora trabalhada no mês de referência\n",
    "        '''\n",
    "        \n",
    "        self.salario_hora[mes] = salario_hora_mes\n",
    "    \n",
    "    def calcula_salario(self, mes):\n",
    "        '''\n",
    "        Calcula o salário no mês de referência\n",
    "        \n",
    "        Parâmetros\n",
    "        ----------\n",
    "        mes : str\n",
    "            Mês de referência para cálculo do salário\n",
    "            \n",
    "        Retorno\n",
    "        ---------\n",
    "        out : float\n",
    "            Salário do mês de referência\n",
    "        '''\n",
    "        if mes in self.salario_hora and mes in self.horas_trabalhadas:\n",
    "            self.salario = self.salario_hora[mes]*self.horas_trabalhadas[mes]\n",
    "            return self\n",
    "        print('Mês não cadastrado')\n",
    "        \n",
    "    def __repr__(self):\n",
    "        return f'Seu salário é {self.salario:.2f}'\n",
    "    "
   ]
  },
  {
   "cell_type": "code",
   "execution_count": 22,
   "id": "b9f8e7bc-a840-41e9-9d4d-75150eb100bd",
   "metadata": {},
   "outputs": [],
   "source": [
    "philippe = Funcionario(\n",
    "    nome = 'Philippe',\n",
    "    email = 'philippesotero@gmail.com'\n",
    ")"
   ]
  },
  {
   "cell_type": "code",
   "execution_count": 23,
   "id": "591ebb7f-53f7-4e65-abbd-6cf536c78487",
   "metadata": {},
   "outputs": [],
   "source": [
    "philippe.lancar_horas_trabalhadas('10/2021', 180)"
   ]
  },
  {
   "cell_type": "code",
   "execution_count": 24,
   "id": "ea160a87-ce36-4fed-bb5f-7f1cb0ad3a23",
   "metadata": {},
   "outputs": [],
   "source": [
    "philippe.salario_hora_mes('10/2021', 8.93)"
   ]
  },
  {
   "cell_type": "code",
   "execution_count": 25,
   "id": "13c718f5-4198-4707-b21c-aab97d48b14c",
   "metadata": {},
   "outputs": [
    {
     "data": {
      "text/plain": [
       "Seu salário é 1607.40"
      ]
     },
     "execution_count": 25,
     "metadata": {},
     "output_type": "execute_result"
    }
   ],
   "source": [
    "philippe.calcula_salario('10/2021')"
   ]
  }
 ],
 "metadata": {
  "kernelspec": {
   "display_name": "Python 3",
   "language": "python",
   "name": "python3"
  },
  "language_info": {
   "codemirror_mode": {
    "name": "ipython",
    "version": 3
   },
   "file_extension": ".py",
   "mimetype": "text/x-python",
   "name": "python",
   "nbconvert_exporter": "python",
   "pygments_lexer": "ipython3",
   "version": "3.8.8"
  }
 },
 "nbformat": 4,
 "nbformat_minor": 5
}
