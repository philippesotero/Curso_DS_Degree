{
 "cells": [
  {
   "cell_type": "code",
   "execution_count": null,
   "id": "3ae45814-b228-4ae1-a9f9-1a6c5880f7ab",
   "metadata": {},
   "outputs": [
    {
     "name": "stdin",
     "output_type": "stream",
     "text": [
      "Deseja iniciar?\n",
      "Digite \"S\" para iniciar ou \"N\" para Sair. s\n",
      "\n",
      "    O que você deseja fazer?\n",
      "    Para exibir as informações do contato digite 'E'\n",
      "    Para cadastrar um novo contato digite 'C'\n",
      "    Para remover um contato do cadastro digite 'R'\n",
      "     c\n",
      "Digite o Código do Fornecedor:  001\n",
      "Digite o Nome do Fornecedor:  Philippe\n",
      "Digite o Telefone do Fornecedor:  11980664375\n",
      "Digite o Email do Fornercedor:  philippesotero@gmail.com\n"
     ]
    },
    {
     "name": "stdout",
     "output_type": "stream",
     "text": [
      "\n",
      "Cadastro realizado com sucesso!\n",
      "\n"
     ]
    },
    {
     "name": "stdin",
     "output_type": "stream",
     "text": [
      "Você deseja realizar mais alguma ação ou deseja sair?\n",
      "Digite \"S\" para continuar ou \"N\" para sair. s\n",
      "\n",
      "    O que você deseja fazer?\n",
      "    Para exibir as informações do contato digite 'E'\n",
      "    Para cadastrar um novo contato digite 'C'\n",
      "    Para remover um contato do cadastro digite 'R'\n",
      "     e\n",
      "Digite o Código do Fornecedor do Cadastro que você deseja consultar:  001\n"
     ]
    },
    {
     "name": "stdout",
     "output_type": "stream",
     "text": [
      "['001', 'Philippe', '11980664375', 'philippesotero@gmail.com']\n"
     ]
    }
   ],
   "source": [
    "def consulta_cadastro(nome_dic, chave_dic, valor_consulta):\n",
    "\n",
    "    idx_cod0 = nome_dic[chave_dic].index(valor_consulta)\n",
    "\n",
    "    dados_consulta = []\n",
    "\n",
    "    for i in contato.values():\n",
    "        dados_consulta.append(i[idx_cod0])\n",
    "    return dados_consulta\n",
    "\n",
    "loop = input('Deseja iniciar?\\nDigite \"S\" para iniciar ou \"N\" para Sair.')\n",
    "\n",
    "contato = {'Código Fornecedor':[],\n",
    "               'Nome do Fornecedor':[],\n",
    "               'Telefone do Fornecedor':[],\n",
    "               'Email do Fornecedor':[]\n",
    "               }\n",
    "\n",
    "while loop == 's':\n",
    "    operacao = input('''\n",
    "    O que você deseja fazer?\n",
    "    Para exibir as informações do contato digite 'E'\n",
    "    Para cadastrar um novo contato digite 'C'\n",
    "    Para remover um contato do cadastro digite 'R'\n",
    "    ''').lower()\n",
    "\n",
    "    if operacao != 'e' and operacao != 'c' and operacao != 'r':\n",
    "        print('Digite uma opção válida.')\n",
    "        continue\n",
    "\n",
    "    if operacao == 'e' and len(contato['Código Fornecedor']) != 0:\n",
    "        cod_consulta = input('Digite o Código do Fornecedor do Cadastro que você deseja consultar: ')\n",
    "        if cod_consulta in contato['Código Fornecedor']:\n",
    "            print(consulta_cadastro(contato, 'Código Fornecedor', cod_consulta))\n",
    "        elif cod_consulta not in contato['Código Fornecedor']:\n",
    "            print('Não temos esse fornecedor no cadastro.\\n')\n",
    "\n",
    "    elif operacao == 'e' and len(contato['Código Fornecedor']) == 0:\n",
    "        print('Cadastro vazio. Não temos contatos para exibir.\\n')\n",
    "\n",
    "\n",
    "    if operacao == 'c':\n",
    "        cod = input('Digite o Código do Fornecedor: ')\n",
    "        if cod.isnumeric() == True:\n",
    "            contato['Código Fornecedor'].append(cod)\n",
    "        else:\n",
    "            print('Você deve digitar um número no código do fornecedor. Realize o cadastro novamente.\\n')\n",
    "            continue\n",
    "        nome = input('Digite o Nome do Fornecedor: ')\n",
    "        contato['Nome do Fornecedor'].append(nome)\n",
    "        telefone = input('Digite o Telefone do Fornecedor: ')\n",
    "        contato['Telefone do Fornecedor'].append(telefone)\n",
    "        email = input('Digite o Email do Fornercedor: ')\n",
    "        contato['Email do Fornecedor'].append(email)\n",
    "        print('\\nCadastro realizado com sucesso!\\n')\n",
    "\n",
    "    if operacao == 'r' and len(contato['Código Fornecedor']) != 0:\n",
    "\n",
    "        cod_remove = input('Digite o Código do fornecedor do contato que deseja excluir: ')\n",
    "        if cod_remove in contato['Código Fornecedor']:\n",
    "            idx_cod = contato['Código Fornecedor'].index(cod_remove)\n",
    "\n",
    "            contato['Código Fornecedor'].pop(idx_cod)\n",
    "            contato['Nome do Fornecedor'].pop(idx_cod)\n",
    "            contato['Telefone do Fornecedor'].pop(idx_cod)\n",
    "            contato['Email do Fornecedor'].pop(idx_cod)\n",
    "            print('\\nCadastro excluído com sucesso!\\n')\n",
    "        elif cod_remove not in contato['Código Fornecedor']:\n",
    "            print('Não temos esse fornecedor no cadastro.\\n')\n",
    "\n",
    "    elif operacao == 'r' and len(contato['Código Fornecedor']) == 0:\n",
    "        print('Cadastro vazio, não é possível remoção.\\n')\n",
    "\n",
    "    loop = input('Você deseja realizar mais alguma ação ou deseja sair?'\n",
    "                 '\\nDigite \"S\" para continuar ou \"N\" para sair.').lower()"
   ]
  }
 ],
 "metadata": {
  "kernelspec": {
   "display_name": "Python 3",
   "language": "python",
   "name": "python3"
  },
  "language_info": {
   "codemirror_mode": {
    "name": "ipython",
    "version": 3
   },
   "file_extension": ".py",
   "mimetype": "text/x-python",
   "name": "python",
   "nbconvert_exporter": "python",
   "pygments_lexer": "ipython3",
   "version": "3.8.8"
  }
 },
 "nbformat": 4,
 "nbformat_minor": 5
}
